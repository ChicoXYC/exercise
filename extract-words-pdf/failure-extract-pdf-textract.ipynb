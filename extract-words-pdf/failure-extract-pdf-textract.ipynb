{
 "cells": [
  {
   "cell_type": "code",
   "execution_count": 1,
   "metadata": {},
   "outputs": [
    {
     "name": "stdout",
     "output_type": "stream",
     "text": [
      "Collecting PyPDF2\n",
      "\u001b[?25l  Downloading https://files.pythonhosted.org/packages/b4/01/68fcc0d43daf4c6bdbc6b33cc3f77bda531c86b174cac56ef0ffdb96faab/PyPDF2-1.26.0.tar.gz (77kB)\n",
      "\u001b[K    100% |████████████████████████████████| 81kB 520kB/s ta 0:00:01\n",
      "\u001b[?25hInstalling collected packages: PyPDF2\n",
      "  Running setup.py install for PyPDF2 ... \u001b[?25ldone\n",
      "\u001b[?25hSuccessfully installed PyPDF2-1.26.0\n",
      "Collecting textract\n",
      "  Downloading https://files.pythonhosted.org/packages/e0/00/a9278b3672a31da06394eb588a16e96f8fce9f6ae0ed44cca18103d4aef5/textract-1.6.1.tar.gz\n",
      "Collecting argcomplete==1.8.2 (from textract)\n",
      "  Downloading https://files.pythonhosted.org/packages/f0/0f/f965f1520e6ba24b63320919eecfbe3d03debd32402e0c61a08e8fa02d17/argcomplete-1.8.2-py2.py3-none-any.whl\n",
      "Collecting chardet==2.3.0 (from textract)\n",
      "\u001b[?25l  Downloading https://files.pythonhosted.org/packages/7e/5c/605ca2daa5cf21c87690d8fe6ab05a6f2278c451f4ede6456dd26453f4bd/chardet-2.3.0-py2.py3-none-any.whl (180kB)\n",
      "\u001b[K    100% |████████████████████████████████| 184kB 249kB/s ta 0:00:01\n",
      "\u001b[?25hCollecting python-pptx==0.6.5 (from textract)\n",
      "\u001b[?25l  Downloading https://files.pythonhosted.org/packages/f8/9c/30bc244cedc571307efe0780d8195ffed5b08f09c94d23f50d6d5144ebc7/python-pptx-0.6.5.tar.gz (7.1MB)\n",
      "\u001b[K    100% |████████████████████████████████| 7.1MB 529kB/s ta 0:00:01\n",
      "\u001b[?25hCollecting docx2txt==0.6 (from textract)\n",
      "  Downloading https://files.pythonhosted.org/packages/aa/72/f02730ec3b0219d8f783a255416339b02ff8b6a300c817abf0505833212a/docx2txt-0.6.tar.gz\n",
      "Collecting beautifulsoup4==4.5.3 (from textract)\n",
      "\u001b[?25l  Downloading https://files.pythonhosted.org/packages/af/a3/9e803f838b3eeb313d45d916d4387cda8572c92e1aafeb53fd43ddb5da2c/beautifulsoup4-4.5.3-py3-none-any.whl (85kB)\n",
      "\u001b[K    100% |████████████████████████████████| 92kB 791kB/s ta 0:00:01\n",
      "\u001b[?25hCollecting xlrd==1.0.0 (from textract)\n",
      "\u001b[?25l  Downloading https://files.pythonhosted.org/packages/0c/b0/8946fe3f9c2690c164aaa88dfd43b56347d3cdeac34124b988acd1aaa151/xlrd-1.0.0-py3-none-any.whl (143kB)\n",
      "\u001b[K    100% |████████████████████████████████| 153kB 84kB/s ta 0:00:011\n",
      "\u001b[?25hCollecting EbookLib==0.15 (from textract)\n",
      "  Downloading https://files.pythonhosted.org/packages/04/30/2cbf65fa9587a1ecc66a78eea91f9189ead8fdadd5e009115bce34529aa6/EbookLib-0.15.tar.gz\n",
      "Collecting SpeechRecognition==3.6.3 (from textract)\n",
      "\u001b[?25l  Downloading https://files.pythonhosted.org/packages/ce/c7/ab6cd0d00ddf8dc3b537cfb922f3f049f8018f38c88d71fd164f3acb8416/SpeechRecognition-3.6.3-py2.py3-none-any.whl (31.8MB)\n",
      "\u001b[K    100% |████████████████████████████████| 31.8MB 420kB/s ta 0:00:01    85% |███████████████████████████▎    | 27.1MB 623kB/s eta 0:00:08\n",
      "\u001b[?25hCollecting six==1.10.0 (from textract)\n",
      "  Downloading https://files.pythonhosted.org/packages/c8/0a/b6723e1bc4c516cb687841499455a8505b44607ab535be01091c0f24f079/six-1.10.0-py2.py3-none-any.whl\n",
      "Collecting pocketsphinx==0.1.3 (from textract)\n",
      "\u001b[?25l  Downloading https://files.pythonhosted.org/packages/93/5f/a968e5d53d25e32deb78c3e169fd8612ecf53cc76e32cb40e19be35696af/pocketsphinx-0.1.3.tar.bz2 (29.4MB)\n",
      "\u001b[K    100% |████████████████████████████████| 29.4MB 73kB/s ta 0:00:011    50% |████████████████▎               | 14.9MB 63kB/s eta 0:03:47\n",
      "\u001b[?25hRequirement already satisfied: lxml>=3.1.0 in ./venv/lib/python3.6/site-packages (from python-pptx==0.6.5->textract) (4.2.5)\n",
      "Requirement already satisfied: Pillow>=2.6.1 in ./venv/lib/python3.6/site-packages (from python-pptx==0.6.5->textract) (5.0.0)\n",
      "Collecting XlsxWriter>=0.5.7 (from python-pptx==0.6.5->textract)\n",
      "\u001b[?25l  Downloading https://files.pythonhosted.org/packages/3d/1b/4caecd4efde1d41ba3bef1a81027032a7a6dff7d5112e1731f232c0addb9/XlsxWriter-1.1.2-py2.py3-none-any.whl (142kB)\n",
      "\u001b[K    100% |████████████████████████████████| 143kB 364kB/s ta 0:00:01\n",
      "\u001b[31mrequests 2.19.1 has requirement chardet<3.1.0,>=3.0.2, but you'll have chardet 2.3.0 which is incompatible.\u001b[0m\n",
      "\u001b[31mjsonschema 3.0.0a3 has requirement six>=1.11.0, but you'll have six 1.10.0 which is incompatible.\u001b[0m\n",
      "\u001b[?25hInstalling collected packages: argcomplete, chardet, XlsxWriter, python-pptx, docx2txt, beautifulsoup4, xlrd, six, EbookLib, SpeechRecognition, pocketsphinx, textract\n",
      "  Found existing installation: chardet 3.0.4\n",
      "    Uninstalling chardet-3.0.4:\n",
      "      Successfully uninstalled chardet-3.0.4\n",
      "  Running setup.py install for python-pptx ... \u001b[?25ldone\n",
      "\u001b[?25h  Running setup.py install for docx2txt ... \u001b[?25ldone\n",
      "\u001b[?25h  Found existing installation: beautifulsoup4 4.6.0\n",
      "    Uninstalling beautifulsoup4-4.6.0:\n",
      "      Successfully uninstalled beautifulsoup4-4.6.0\n",
      "  Found existing installation: xlrd 1.1.0\n",
      "    Uninstalling xlrd-1.1.0:\n",
      "      Successfully uninstalled xlrd-1.1.0\n",
      "  Found existing installation: six 1.11.0\n",
      "    Uninstalling six-1.11.0:\n",
      "      Successfully uninstalled six-1.11.0\n",
      "  Running setup.py install for EbookLib ... \u001b[?25ldone\n",
      "\u001b[?25h  Running setup.py install for pocketsphinx ... \u001b[?25lerror\n",
      "    Complete output from command /Users/xuyucan/Desktop/Chicoxyc/venv/bin/python3.6 -u -c \"import setuptools, tokenize;__file__='/private/var/folders/wl/5125h54j1b5_9l3s63fcykx40000gn/T/pip-install-g2a4gfda/pocketsphinx/setup.py';f=getattr(tokenize, 'open', open)(__file__);code=f.read().replace('\\r\\n', '\\n');f.close();exec(compile(code, __file__, 'exec'))\" install --record /private/var/folders/wl/5125h54j1b5_9l3s63fcykx40000gn/T/pip-record-d4ff7ec2/install-record.txt --single-version-externally-managed --compile --install-headers /Users/xuyucan/Desktop/Chicoxyc/venv/include/site/python3.6/pocketsphinx:\n",
      "    running install\n",
      "    running build_ext\n",
      "    building 'sphinxbase._ad' extension\n",
      "    swigging swig/sphinxbase/ad.i to swig/sphinxbase/ad_wrap.c\n",
      "    swig -python -modern -Ideps/sphinxbase/include -Ideps/sphinxbase/include/sphinxbase -I/System/Library/Frameworks/OpenAL.framework/Versions/A/Headers -Ideps/sphinxbase/include/android -Ideps/sphinxbase/swig -outdir sphinxbase -o swig/sphinxbase/ad_wrap.c swig/sphinxbase/ad.i\n",
      "    unable to execute 'swig': No such file or directory\n",
      "    error: command 'swig' failed with exit status 1\n",
      "    \n",
      "    ----------------------------------------\n",
      "\u001b[31mCommand \"/Users/xuyucan/Desktop/Chicoxyc/venv/bin/python3.6 -u -c \"import setuptools, tokenize;__file__='/private/var/folders/wl/5125h54j1b5_9l3s63fcykx40000gn/T/pip-install-g2a4gfda/pocketsphinx/setup.py';f=getattr(tokenize, 'open', open)(__file__);code=f.read().replace('\\r\\n', '\\n');f.close();exec(compile(code, __file__, 'exec'))\" install --record /private/var/folders/wl/5125h54j1b5_9l3s63fcykx40000gn/T/pip-record-d4ff7ec2/install-record.txt --single-version-externally-managed --compile --install-headers /Users/xuyucan/Desktop/Chicoxyc/venv/include/site/python3.6/pocketsphinx\" failed with error code 1 in /private/var/folders/wl/5125h54j1b5_9l3s63fcykx40000gn/T/pip-install-g2a4gfda/pocketsphinx/\u001b[0m\n",
      "\u001b[?25h"
     ]
    }
   ],
   "source": [
    "!pip install PyPDF2\n",
    "!pip install textract"
   ]
  },
  {
   "cell_type": "code",
   "execution_count": 3,
   "metadata": {},
   "outputs": [
    {
     "name": "stdout",
     "output_type": "stream",
     "text": [
      "Collecting chardet==3.0.2\n",
      "\u001b[?25l  Downloading https://files.pythonhosted.org/packages/b8/74/54fdc2fcfdd46b6c486964b64c5bb7db9a3664033ab25cf11aab06dd2a5d/chardet-3.0.2-py2.py3-none-any.whl (133kB)\n",
      "\u001b[K    100% |████████████████████████████████| 143kB 750kB/s ta 0:00:01\n",
      "\u001b[?25hInstalling collected packages: chardet\n",
      "  Found existing installation: chardet 2.3.0\n",
      "    Uninstalling chardet-2.3.0:\n",
      "      Successfully uninstalled chardet-2.3.0\n",
      "Successfully installed chardet-3.0.2\n"
     ]
    }
   ],
   "source": [
    "!pip3 install chardet==3.0.2"
   ]
  },
  {
   "cell_type": "code",
   "execution_count": 4,
   "metadata": {},
   "outputs": [
    {
     "name": "stdout",
     "output_type": "stream",
     "text": [
      "Requirement already satisfied: jsonschema in ./venv/lib/python3.6/site-packages (3.0.0a3)\n",
      "Requirement already satisfied: attrs>=17.4.0 in ./venv/lib/python3.6/site-packages (from jsonschema) (18.2.0)\n",
      "Requirement already satisfied: pyrsistent>=0.14.0 in ./venv/lib/python3.6/site-packages (from jsonschema) (0.14.5)\n",
      "Collecting six>=1.11.0 (from jsonschema)\n",
      "  Downloading https://files.pythonhosted.org/packages/67/4b/141a581104b1f6397bfa78ac9d43d8ad29a7ca43ea90a2d863fe3056e86a/six-1.11.0-py2.py3-none-any.whl\n",
      "Installing collected packages: six\n",
      "  Found existing installation: six 1.10.0\n",
      "    Uninstalling six-1.10.0:\n",
      "      Successfully uninstalled six-1.10.0\n",
      "Successfully installed six-1.11.0\n"
     ]
    }
   ],
   "source": [
    "!pip install jsonschema"
   ]
  },
  {
   "cell_type": "code",
   "execution_count": 7,
   "metadata": {},
   "outputs": [
    {
     "ename": "ModuleNotFoundError",
     "evalue": "No module named 'textract'",
     "output_type": "error",
     "traceback": [
      "\u001b[0;31m---------------------------------------------------------------------------\u001b[0m",
      "\u001b[0;31mModuleNotFoundError\u001b[0m                       Traceback (most recent call last)",
      "\u001b[0;32m<ipython-input-7-4e7f2691d9ff>\u001b[0m in \u001b[0;36m<module>\u001b[0;34m\u001b[0m\n\u001b[1;32m      1\u001b[0m \u001b[0;32mimport\u001b[0m \u001b[0mPyPDF2\u001b[0m\u001b[0;34m\u001b[0m\u001b[0m\n\u001b[0;32m----> 2\u001b[0;31m \u001b[0;32mimport\u001b[0m \u001b[0mtextract\u001b[0m\u001b[0;34m\u001b[0m\u001b[0m\n\u001b[0m\u001b[1;32m      3\u001b[0m \u001b[0;32mfrom\u001b[0m \u001b[0mnltk\u001b[0m\u001b[0;34m.\u001b[0m\u001b[0mtokenize\u001b[0m \u001b[0;32mimport\u001b[0m \u001b[0mword_tokenize\u001b[0m\u001b[0;34m\u001b[0m\u001b[0m\n\u001b[1;32m      4\u001b[0m \u001b[0;32mfrom\u001b[0m \u001b[0mnltk\u001b[0m\u001b[0;34m.\u001b[0m\u001b[0mcorpus\u001b[0m \u001b[0;32mimport\u001b[0m \u001b[0mstopwords\u001b[0m\u001b[0;34m\u001b[0m\u001b[0m\n",
      "\u001b[0;31mModuleNotFoundError\u001b[0m: No module named 'textract'"
     ]
    }
   ],
   "source": [
    "import PyPDF2 \n",
    "import textract\n",
    "from nltk.tokenize import word_tokenize\n",
    "from nltk.corpus import stopwords"
   ]
  },
  {
   "cell_type": "code",
   "execution_count": 8,
   "metadata": {},
   "outputs": [
    {
     "name": "stdout",
     "output_type": "stream",
     "text": [
      "Collecting textract\n",
      "  Using cached https://files.pythonhosted.org/packages/e0/00/a9278b3672a31da06394eb588a16e96f8fce9f6ae0ed44cca18103d4aef5/textract-1.6.1.tar.gz\n",
      "Requirement already satisfied: argcomplete==1.8.2 in ./venv/lib/python3.6/site-packages (from textract) (1.8.2)\n",
      "Collecting chardet==2.3.0 (from textract)\n",
      "  Using cached https://files.pythonhosted.org/packages/7e/5c/605ca2daa5cf21c87690d8fe6ab05a6f2278c451f4ede6456dd26453f4bd/chardet-2.3.0-py2.py3-none-any.whl\n",
      "Requirement already satisfied: python-pptx==0.6.5 in ./venv/lib/python3.6/site-packages (from textract) (0.6.5)\n",
      "Requirement already satisfied: docx2txt==0.6 in ./venv/lib/python3.6/site-packages (from textract) (0.6)\n",
      "Requirement already satisfied: beautifulsoup4==4.5.3 in ./venv/lib/python3.6/site-packages (from textract) (4.5.3)\n",
      "Requirement already satisfied: xlrd==1.0.0 in ./venv/lib/python3.6/site-packages (from textract) (1.0.0)\n",
      "Requirement already satisfied: EbookLib==0.15 in ./venv/lib/python3.6/site-packages (from textract) (0.15)\n",
      "Requirement already satisfied: SpeechRecognition==3.6.3 in ./venv/lib/python3.6/site-packages (from textract) (3.6.3)\n",
      "Collecting six==1.10.0 (from textract)\n",
      "  Using cached https://files.pythonhosted.org/packages/c8/0a/b6723e1bc4c516cb687841499455a8505b44607ab535be01091c0f24f079/six-1.10.0-py2.py3-none-any.whl\n",
      "Collecting pocketsphinx==0.1.3 (from textract)\n",
      "  Using cached https://files.pythonhosted.org/packages/93/5f/a968e5d53d25e32deb78c3e169fd8612ecf53cc76e32cb40e19be35696af/pocketsphinx-0.1.3.tar.bz2\n",
      "Requirement already satisfied: lxml>=3.1.0 in ./venv/lib/python3.6/site-packages (from python-pptx==0.6.5->textract) (4.2.5)\n",
      "Requirement already satisfied: Pillow>=2.6.1 in ./venv/lib/python3.6/site-packages (from python-pptx==0.6.5->textract) (5.0.0)\n",
      "Requirement already satisfied: XlsxWriter>=0.5.7 in ./venv/lib/python3.6/site-packages (from python-pptx==0.6.5->textract) (1.1.2)\n",
      "\u001b[31mrequests 2.19.1 has requirement chardet<3.1.0,>=3.0.2, but you'll have chardet 2.3.0 which is incompatible.\u001b[0m\n",
      "\u001b[31mjsonschema 3.0.0a3 has requirement six>=1.11.0, but you'll have six 1.10.0 which is incompatible.\u001b[0m\n",
      "Installing collected packages: chardet, six, pocketsphinx, textract\n",
      "  Found existing installation: chardet 3.0.2\n",
      "    Uninstalling chardet-3.0.2:\n",
      "      Successfully uninstalled chardet-3.0.2\n",
      "  Found existing installation: six 1.11.0\n",
      "    Uninstalling six-1.11.0:\n",
      "      Successfully uninstalled six-1.11.0\n",
      "  Running setup.py install for pocketsphinx ... \u001b[?25lerror\n",
      "    Complete output from command /Users/xuyucan/Desktop/Chicoxyc/venv/bin/python3.6 -u -c \"import setuptools, tokenize;__file__='/private/var/folders/wl/5125h54j1b5_9l3s63fcykx40000gn/T/pip-install-wd72mczm/pocketsphinx/setup.py';f=getattr(tokenize, 'open', open)(__file__);code=f.read().replace('\\r\\n', '\\n');f.close();exec(compile(code, __file__, 'exec'))\" install --record /private/var/folders/wl/5125h54j1b5_9l3s63fcykx40000gn/T/pip-record-o7ohz8lq/install-record.txt --single-version-externally-managed --compile --install-headers /Users/xuyucan/Desktop/Chicoxyc/venv/include/site/python3.6/pocketsphinx:\n",
      "    running install\n",
      "    running build_ext\n",
      "    building 'sphinxbase._ad' extension\n",
      "    swigging swig/sphinxbase/ad.i to swig/sphinxbase/ad_wrap.c\n",
      "    swig -python -modern -Ideps/sphinxbase/include -Ideps/sphinxbase/include/sphinxbase -I/System/Library/Frameworks/OpenAL.framework/Versions/A/Headers -Ideps/sphinxbase/include/android -Ideps/sphinxbase/swig -outdir sphinxbase -o swig/sphinxbase/ad_wrap.c swig/sphinxbase/ad.i\n",
      "    unable to execute 'swig': No such file or directory\n",
      "    error: command 'swig' failed with exit status 1\n",
      "    \n",
      "    ----------------------------------------\n",
      "\u001b[31mCommand \"/Users/xuyucan/Desktop/Chicoxyc/venv/bin/python3.6 -u -c \"import setuptools, tokenize;__file__='/private/var/folders/wl/5125h54j1b5_9l3s63fcykx40000gn/T/pip-install-wd72mczm/pocketsphinx/setup.py';f=getattr(tokenize, 'open', open)(__file__);code=f.read().replace('\\r\\n', '\\n');f.close();exec(compile(code, __file__, 'exec'))\" install --record /private/var/folders/wl/5125h54j1b5_9l3s63fcykx40000gn/T/pip-record-o7ohz8lq/install-record.txt --single-version-externally-managed --compile --install-headers /Users/xuyucan/Desktop/Chicoxyc/venv/include/site/python3.6/pocketsphinx\" failed with error code 1 in /private/var/folders/wl/5125h54j1b5_9l3s63fcykx40000gn/T/pip-install-wd72mczm/pocketsphinx/\u001b[0m\n",
      "\u001b[?25h"
     ]
    }
   ],
   "source": [
    "!pip install textract"
   ]
  },
  {
   "cell_type": "code",
   "execution_count": null,
   "metadata": {},
   "outputs": [],
   "source": []
  }
 ],
 "metadata": {
  "kernelspec": {
   "display_name": "Python 3",
   "language": "python",
   "name": "python3"
  },
  "language_info": {
   "codemirror_mode": {
    "name": "ipython",
    "version": 3
   },
   "file_extension": ".py",
   "mimetype": "text/x-python",
   "name": "python",
   "nbconvert_exporter": "python",
   "pygments_lexer": "ipython3",
   "version": "3.6.5"
  }
 },
 "nbformat": 4,
 "nbformat_minor": 2
}
