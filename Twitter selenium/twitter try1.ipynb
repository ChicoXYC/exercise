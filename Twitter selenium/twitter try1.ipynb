{
 "cells": [
  {
   "cell_type": "markdown",
   "metadata": {},
   "source": [
    "### Scrape tweets by key word searching `Mangkhut`('山竹')"
   ]
  },
  {
   "cell_type": "code",
   "execution_count": 3,
   "metadata": {},
   "outputs": [],
   "source": [
    "import selenium\n",
    "from selenium import webdriver\n",
    "from selenium.webdriver.common.keys import Keys\n",
    "from selenium.webdriver.common.by import By\n",
    "from selenium.webdriver.support.ui import WebDriverWait\n",
    "from selenium.webdriver.support import expected_conditions as EC\n",
    "from selenium.common.exceptions import TimeoutException\n",
    "from getpass import getpass\n",
    "import lxml\n",
    "from bs4 import BeautifulSoup as bs\n",
    "import time"
   ]
  },
  {
   "cell_type": "code",
   "execution_count": 4,
   "metadata": {},
   "outputs": [],
   "source": [
    "def init_driver():\n",
    " \n",
    "     # initiate the driver:\n",
    "     driver = webdriver.Chrome()\n",
    " \n",
    "     # set a default wait time for the browser [5 seconds here]:\n",
    "     driver.wait = WebDriverWait(driver, 5)\n",
    " \n",
    "     return driver"
   ]
  },
  {
   "cell_type": "code",
   "execution_count": 5,
   "metadata": {},
   "outputs": [],
   "source": [
    "def close_driver(driver):\n",
    " \n",
    "    driver.close()\n",
    " \n",
    "    return"
   ]
  },
  {
   "cell_type": "code",
   "execution_count": 6,
   "metadata": {},
   "outputs": [],
   "source": [
    "def login_twitter(driver, username, password):\n",
    " \n",
    "    # open the web page in the browser:\n",
    "    driver.get(\"https://twitter.com/login\")\n",
    " \n",
    "    # find the boxes for username and password\n",
    "    username_field = driver.find_element_by_class_name(\"js-username-field\")\n",
    "    password_field = driver.find_element_by_class_name(\"js-password-field\")\n",
    " \n",
    "    # enter your username:\n",
    "    username_field.send_keys(username)\n",
    "    driver.implicitly_wait(1)\n",
    " \n",
    "    # enter your password:\n",
    "    password_field.send_keys(password)\n",
    "    driver.implicitly_wait(1)\n",
    " \n",
    "    # click the \"Log In\" button:\n",
    "    driver.find_element_by_class_name(\"EdgeButtom--medium\").click()\n",
    " \n",
    "    return"
   ]
  },
  {
   "cell_type": "code",
   "execution_count": 7,
   "metadata": {},
   "outputs": [],
   "source": [
    "class wait_for_more_than_n_elements_to_be_present(object):\n",
    "    def __init__(self, locator, count):\n",
    "        self.locator = locator\n",
    "        self.count = count\n",
    "\n",
    "    def __call__(self, driver):\n",
    "        try:\n",
    "            elements = EC._find_elements(driver, self.locator)\n",
    "            return len(elements) > self.count\n",
    "        except StaleElementReferenceException:\n",
    "            return False"
   ]
  },
  {
   "cell_type": "code",
   "execution_count": 8,
   "metadata": {},
   "outputs": [],
   "source": [
    "def search_twitter(driver, query):\n",
    " \n",
    "    # wait until the search box has loaded:\n",
    "    box = driver.wait.until(EC.presence_of_element_located((By.NAME, \"q\")))\n",
    "     \n",
    "    driver.maximize_window()\n",
    "    \n",
    "    # find the search box in the html:\n",
    "    driver.find_element_by_name(\"q\").clear()\n",
    " \n",
    "    # enter your search string in the search box:\n",
    "    box.send_keys(query)\n",
    " \n",
    "    # submit the query (like hitting return):\n",
    "    box.submit()\n",
    " \n",
    "    # initial wait for the search results to load\n",
    "    wait = WebDriverWait(driver, 10)\n",
    " \n",
    "    # wait until the first search result is found. Search results will be tweets, which are html list items and have the class='data-item-id':\n",
    "    wait.until(EC.visibility_of_element_located((By.CSS_SELECTOR, \"li[data-item-id]\")))\n",
    " \n",
    "    # scroll down to the last tweet until there are no more tweets:\n",
    "    while True:\n",
    "\n",
    "        # extract all the tweets:\n",
    "        tweets = driver.find_elements_by_css_selector(\"li[data-item-id]\")\n",
    "\n",
    "        # find number of visible tweets:\n",
    "        number_of_tweets = len(tweets)\n",
    "        \n",
    "        print(number_of_tweets)\n",
    "\n",
    "        # keep scrolling:\n",
    "        driver.execute_script(\"arguments[0].scrollIntoView();\", tweets[-1])\n",
    "        \n",
    "        time.sleep(5)\n",
    "        try:\n",
    "            # wait for more tweets to be visible:\n",
    "            wait.until(wait_for_more_than_n_elements_to_be_present(\n",
    "                (By.CSS_SELECTOR, \"li[data-item-id]\"), number_of_tweets))\n",
    "\n",
    "        except TimeoutException:\n",
    "            # if no more are visible the \"wait.until\" call will timeout. Catch the exception and exit the while loop:\n",
    "            break\n",
    " \n",
    "    # extract the html for the whole lot:\n",
    "    page_source = driver.page_source\n",
    "    driver.close()\n",
    "    return page_source"
   ]
  },
  {
   "cell_type": "code",
   "execution_count": 9,
   "metadata": {},
   "outputs": [],
   "source": [
    "def extract_tweets(page_source):\n",
    " \n",
    "    soup = bs(page_source,'lxml')\n",
    " \n",
    "    tweets = []\n",
    "    for li in soup.find_all(\"li\", class_='js-stream-item'):\n",
    " \n",
    "        # If our li doesn't have a tweet-id, we skip it as it's not going to be a tweet.\n",
    "        if 'data-item-id' not in li.attrs:\n",
    "            continue\n",
    " \n",
    "        else:\n",
    "            tweet = {\n",
    "                'tweet_id': li['data-item-id'],\n",
    "                'text': None,\n",
    "                'user_id': None,\n",
    "                'user_screen_name': None,\n",
    "                'user_name': None,\n",
    "                'created_at': None,\n",
    "                'retweets': 0,\n",
    "                'likes': 0,\n",
    "                'replies': 0\n",
    "            }\n",
    " \n",
    "            # Tweet Text\n",
    "            text_p = li.find(\"p\", class_=\"tweet-text\")\n",
    "            if text_p is not None:\n",
    "                tweet['text'] = text_p.get_text()\n",
    " \n",
    "            # Tweet User ID, User Screen Name, User Name\n",
    "            user_details_div = li.find(\"div\", class_=\"tweet\")\n",
    "            if user_details_div is not None:\n",
    "                tweet['user_id'] = user_details_div['data-user-id']\n",
    "                tweet['user_screen_name'] = user_details_div['data-screen-name']\n",
    "                tweet['user_name'] = user_details_div['data-name']\n",
    " \n",
    "            # Tweet date\n",
    "            date_span = li.find(\"span\", class_=\"_timestamp\")\n",
    "            if date_span is not None:\n",
    "                tweet['created_at'] = float(date_span['data-time-ms'])\n",
    " \n",
    "            # Tweet Retweets\n",
    "            retweet_span = li.select(\"span.ProfileTweet-action--retweet > span.ProfileTweet-actionCount\")\n",
    "            if retweet_span is not None and len(retweet_span) > 0:\n",
    "                tweet['retweets'] = int(retweet_span[0]['data-tweet-stat-count'])\n",
    " \n",
    "            # Tweet Likes\n",
    "            like_span = li.select(\"span.ProfileTweet-action--favorite > span.ProfileTweet-actionCount\")\n",
    "            if like_span is not None and len(like_span) > 0:\n",
    "                tweet['likes'] = int(like_span[0]['data-tweet-stat-count'])\n",
    " \n",
    "            # Tweet Replies\n",
    "            reply_span = li.select(\"span.ProfileTweet-action--reply > span.ProfileTweet-actionCount\")\n",
    "            if reply_span is not None and len(reply_span) > 0:\n",
    "                tweet['replies'] = int(reply_span[0]['data-tweet-stat-count'])\n",
    " \n",
    "            tweets.append(tweet)\n",
    " \n",
    "    return tweets"
   ]
  },
  {
   "cell_type": "code",
   "execution_count": 11,
   "metadata": {},
   "outputs": [
    {
     "name": "stdout",
     "output_type": "stream",
     "text": [
      "user name : Nandobreaux\n",
      "password  : ········\n",
      "43\n"
     ]
    }
   ],
   "source": [
    "if __name__ == \"__main__\":\n",
    " \n",
    "    # start a driver for a web browser:\n",
    "    driver = init_driver()\n",
    " \n",
    "    # log in to twitter (replace username/password with your own):\n",
    "    username = input(\"user name : \")\n",
    "    password = getpass(\"password  : \")\n",
    "    login_twitter(driver, username, password)\n",
    " \n",
    "    # search twitter:\n",
    "    query = \"Mangkhut\"\n",
    "    page_source = search_twitter(driver, query)\n",
    " \n",
    "    # extract info from the search results:\n",
    "    tweets = extract_tweets(page_source)\n"
   ]
  },
  {
   "cell_type": "code",
   "execution_count": 12,
   "metadata": {},
   "outputs": [
    {
     "data": {
      "text/plain": [
       "20"
      ]
     },
     "execution_count": 12,
     "metadata": {},
     "output_type": "execute_result"
    }
   ],
   "source": [
    "len(tweets)"
   ]
  },
  {
   "cell_type": "markdown",
   "metadata": {},
   "source": [
    "#### Problem: try...scroll didn't work. in `def search_twitter(driver, query)` function"
   ]
  },
  {
   "cell_type": "code",
   "execution_count": null,
   "metadata": {},
   "outputs": [],
   "source": []
  }
 ],
 "metadata": {
  "kernelspec": {
   "display_name": "Python 3",
   "language": "python",
   "name": "python3"
  },
  "language_info": {
   "codemirror_mode": {
    "name": "ipython",
    "version": 3
   },
   "file_extension": ".py",
   "mimetype": "text/x-python",
   "name": "python",
   "nbconvert_exporter": "python",
   "pygments_lexer": "ipython3",
   "version": "3.6.3"
  }
 },
 "nbformat": 4,
 "nbformat_minor": 2
}
