{
 "cells": [
  {
   "cell_type": "markdown",
   "metadata": {},
   "source": [
    "the problem here is that in the process of `finding title, favorite, thumb`. We should stick with `elements first`, which explained in the notes, you can refer [here](https://github.com/hupili/python-for-data-and-media-communication-gitbook/blob/master/notes-week-05.md#item-first-vs-attribute-first).\n",
    "\n",
    "For this case, each post is an element. After we find the single element, we can find the values we want under this element. Therefore, you just need to write one layer for loop. \n",
    "\n",
    "```python\n",
    "#reference version\n",
    "    one_page_info=[]\n",
    "    r = requests.get(url)\n",
    "    r.encoding = 'utf-8'\n",
    "    data = BeautifulSoup(r.text, 'lxml')\n",
    "    ct = data.find('div', attrs={'class':'home-post-list js-postlist'})\n",
    "    myct = ct.find_all('div', attrs={'class':'postlist-item'})\n",
    "    for i in myct:\n",
    "        dict_1 = {}\n",
    "        title = i.find('h2',attrs={'class':'post-title'}).text\n",
    "        dict_1['title']=title\n",
    "        meta = i.find_all('span', attrs={'class':'post-meta-item'})\n",
    "        dict_1['favourite']=meta[0].text\n",
    "        dict_1['thumb']=meta[1].text\n",
    "        one_page_info.append(dict_1)\n",
    "```\n",
    "\n",
    "\n",
    "```python\n",
    "#your version. There is no need to write so many different layers of loop under one element. Use the first one is enough. If you write so many layers of for loop, you must give a list to hold each loops value, because for loop only return the last loop value.(apparently, you didn't, that's the reason why you only got one post info.\n",
    "    for i in myct:\n",
    "        titles=[]\n",
    "        title = i.find('h2',attrs={'class':'post-title'}).text\n",
    "        titles.append(title)\n",
    "        dict_1['title']=titles\n",
    "    for f in range(1,13):\n",
    "        f = f * 2 - 2 \n",
    "        favorite = ct.find_all('span', attrs={'class':'post-meta-item'})[0+f].text\n",
    "        dict_1['favourite']=favorite\n",
    "    for y in range(1,13):\n",
    "        y = y * 2 - 1\n",
    "        thumb = ct.find_all('span', attrs={'class':'post-meta-item'})[0+y].text\n",
    "        dict_1['thumb']=thumb\n",
    "    all_info.append(dict_1)\n",
    "```"
   ]
  },
  {
   "cell_type": "code",
   "execution_count": 1,
   "metadata": {},
   "outputs": [],
   "source": [
    "import requests\n",
    "from bs4 import BeautifulSoup"
   ]
  },
  {
   "cell_type": "code",
   "execution_count": 2,
   "metadata": {},
   "outputs": [],
   "source": [
    "url_list=[]\n",
    "for i in range(0,5):\n",
    "    page_number=str(i+1)\n",
    "    url2 ='http://www.woshipm.com/category/operate/page/'+ page_number\n",
    "    url_list.append(url2)"
   ]
  },
  {
   "cell_type": "code",
   "execution_count": 3,
   "metadata": {},
   "outputs": [
    {
     "data": {
      "text/plain": [
       "['http://www.woshipm.com/category/operate/page/1',\n",
       " 'http://www.woshipm.com/category/operate/page/2',\n",
       " 'http://www.woshipm.com/category/operate/page/3',\n",
       " 'http://www.woshipm.com/category/operate/page/4',\n",
       " 'http://www.woshipm.com/category/operate/page/5']"
      ]
     },
     "execution_count": 3,
     "metadata": {},
     "output_type": "execute_result"
    }
   ],
   "source": [
    "url_list"
   ]
  },
  {
   "cell_type": "code",
   "execution_count": 4,
   "metadata": {},
   "outputs": [],
   "source": [
    "def get_one_page(url):\n",
    "    one_page_info=[]\n",
    "    r = requests.get(url)\n",
    "    r.encoding = 'utf-8'\n",
    "    data = BeautifulSoup(r.text, 'lxml')\n",
    "    ct = data.find('div', attrs={'class':'home-post-list js-postlist'})\n",
    "    myct = ct.find_all('div', attrs={'class':'postlist-item'})\n",
    "    for i in myct:\n",
    "        dict_1 = {}\n",
    "        title = i.find('h2',attrs={'class':'post-title'}).text\n",
    "        dict_1['title']=title\n",
    "        meta = i.find_all('span', attrs={'class':'post-meta-item'})\n",
    "        dict_1['favourite']=meta[0].text\n",
    "        dict_1['thumb']=meta[1].text\n",
    "        one_page_info.append(dict_1)\n",
    "    return one_page_info"
   ]
  },
  {
   "cell_type": "code",
   "execution_count": 5,
   "metadata": {},
   "outputs": [],
   "source": [
    "all_info = []\n",
    "for url in url_list:\n",
    "    all_info.extend(get_one_page(url))"
   ]
  },
  {
   "cell_type": "code",
   "execution_count": 6,
   "metadata": {},
   "outputs": [
    {
     "data": {
      "text/plain": [
       "[{'title': '从1000场活动中总结出来的思维套路模型', 'favourite': '2', 'thumb': '1'},\n",
       " {'title': '标品与非标品怎么定义?有什么区别?', 'favourite': '0', 'thumb': '0'},\n",
       " {'title': '案例+方法：如何打造现金贷产品的用户增长体系', 'favourite': '1', 'thumb': '1'},\n",
       " {'title': '你并不知道，什么才是真正的用户需求', 'favourite': '1', 'thumb': '0'},\n",
       " {'title': '用户对你的产品很满意，为什么还是不肯下单购买？', 'favourite': '5', 'thumb': '3'},\n",
       " {'title': '十三条从知乎引流微信的经验', 'favourite': '0', 'thumb': '0'},\n",
       " {'title': '数据驱动经验分享：从方法到实践', 'favourite': '5', 'thumb': '3'},\n",
       " {'title': '互金运营入门指南（三）：搭建你的运营框架', 'favourite': '3', 'thumb': '1'},\n",
       " {'title': '新媒体运营流程：公众号的整个生命周期', 'favourite': '8', 'thumb': '4'},\n",
       " {'title': '「foodie」近三个月的用户反馈收集、整理及输出', 'favourite': '11', 'thumb': '2'},\n",
       " {'title': '网易连续不断打造爆款H5，说到底我们可以学什么？', 'favourite': '16', 'thumb': '9'},\n",
       " {'title': '做产品就是谈恋爱，需要选择和某个人成为长期的合伙人', 'favourite': '19', 'thumb': '4'},\n",
       " {'title': '如何构建运营体系？', 'favourite': '46', 'thumb': '44'},\n",
       " {'title': '人生运营指南：找个运营来作陪', 'favourite': '15', 'thumb': '14'},\n",
       " {'title': '如何让用户快乐剁手？请看LINE FRIENDS合作会场的秘密套路',\n",
       "  'favourite': '38',\n",
       "  'thumb': '6'},\n",
       " {'title': '写得出10W+的文章有什么了不起？能月入10W+吗？', 'favourite': '10', 'thumb': '2'},\n",
       " {'title': '找到了客群，却输在了投放，ToB营销为何这么难？', 'favourite': '0', 'thumb': '2'},\n",
       " {'title': '网易系H5频繁刷屏背后，是一个通用的爆款模型', 'favourite': '74', 'thumb': '37'},\n",
       " {'title': '如何验证一个点子靠谱不靠谱？', 'favourite': '12', 'thumb': '5'},\n",
       " {'title': '流量池与社交基因，Luckin coffee和连咖啡的增长之战', 'favourite': '15', 'thumb': '9'},\n",
       " {'title': '增长黑客 | 微信读书用户裂变之路', 'favourite': '81', 'thumb': '35'},\n",
       " {'title': '从钻石营销模式中看：最成功的内容运营策略是什么？', 'favourite': '1', 'thumb': '6'},\n",
       " {'title': '案例总结：线下门店如何做到两小时引流2000+人， 瞬间刷爆全城？',\n",
       "  'favourite': '60',\n",
       "  'thumb': '26'},\n",
       " {'title': '目的不同手段也不同，从核心动机看抖音企业号运营逻辑', 'favourite': '14', 'thumb': '6'},\n",
       " {'title': '如何像TikTok那样赢得海外年轻用户？这里有3个建议', 'favourite': '2', 'thumb': '1'},\n",
       " {'title': 'YY“走出去”三重门：跨平台、双线走、出海去', 'favourite': '3', 'thumb': '2'},\n",
       " {'title': '电商运营需要了解哪些商品数据分析技巧？', 'favourite': '17', 'thumb': '9'},\n",
       " {'title': '分享8个方法，教你做好KOL运营', 'favourite': '13', 'thumb': '6'},\n",
       " {'title': '5000字干货：从0到1深度解析KOL运营', 'favourite': '57', 'thumb': '21'},\n",
       " {'title': '运营的最高境界：控制用户行为', 'favourite': '39', 'thumb': '10'},\n",
       " {'title': '解析“支付宝锦鲤”刷屏背后的秘密！', 'favourite': '6', 'thumb': '0'},\n",
       " {'title': '运营人，这7种推广技能你必须知道！', 'favourite': '24', 'thumb': '9'},\n",
       " {'title': '10条策略告诉你如何做用户召回', 'favourite': '36', 'thumb': '6'},\n",
       " {'title': '2135亿元再创新高！2018年天猫双十一运营“套路”你知多少？',\n",
       "  'favourite': '19',\n",
       "  'thumb': '10'},\n",
       " {'title': '拆解小程序，你能从中看到多少与增长有关的东西？', 'favourite': '22', 'thumb': '5'},\n",
       " {'title': '记一个运营的“套路”', 'favourite': '15', 'thumb': '1'},\n",
       " {'title': '真实案例 | 调整产品结构，仅此一招就让自助餐转亏为盈！', 'favourite': '9', 'thumb': '6'},\n",
       " {'title': '公众号KOL的渠道运营避坑指南', 'favourite': '45', 'thumb': '6'},\n",
       " {'title': '“众筹裂变”6大玩法盘点：两个关键保你实现爆发增长', 'favourite': '36', 'thumb': '10'},\n",
       " {'title': '想清楚这3个问题，你就可以掌控话题运营了！', 'favourite': '42', 'thumb': '20'},\n",
       " {'title': '零基础掌握主流APP应用市场渠道运营策略', 'favourite': '12', 'thumb': '5'},\n",
       " {'title': '深度解析抖音背后的推广运营策略', 'favourite': '42', 'thumb': '14'},\n",
       " {'title': '群内又吵架了怎么办？拿好这份0事故率优质社群干货秘笈', 'favourite': '6', 'thumb': '6'},\n",
       " {'title': '双十一天猫京东打的火热，然而网易偏不按套路出牌！', 'favourite': '16', 'thumb': '1'},\n",
       " {'title': '转化率提高利器之（一）再定向与客户价值历程匹配', 'favourite': '3', 'thumb': '1'},\n",
       " {'title': '瑞幸咖啡：微信小程序上的咖啡外送“生意经”', 'favourite': '9', 'thumb': '1'},\n",
       " {'title': '小七带你逛起点｜运营人，需要有意识地培养自己的运营思维意识和习惯',\n",
       "  'favourite': '15',\n",
       "  'thumb': '2'},\n",
       " {'title': '互金运营入门指南（二）：告别“你以为”和“应该是”的用户画像', 'favourite': '34', 'thumb': '15'},\n",
       " {'title': '微信裂变如何做到单次活动增长10万微信好友？', 'favourite': '66', 'thumb': '24'},\n",
       " {'title': '只花了1000块，我给自己的微信公众号办了场线下见面会。', 'favourite': '3', 'thumb': '1'},\n",
       " {'title': '快闪营销怎么玩？“360AI整鬼实验室”经验复盘分享', 'favourite': '4', 'thumb': '2'},\n",
       " {'title': '以P2P为例：积分体系从0到1搭建（一）', 'favourite': '17', 'thumb': '7'},\n",
       " {'title': '干货丨裂变的天时、地利与人和', 'favourite': '91', 'thumb': '30'},\n",
       " {'title': '产品推广之用户四象限', 'favourite': '7', 'thumb': '2'},\n",
       " {'title': '实现品牌战略的三板斧：定位、差异化与市场细分', 'favourite': '30', 'thumb': '6'},\n",
       " {'title': '突破流量困境：流量思维向社群思维转变的思考', 'favourite': '5', 'thumb': '3'},\n",
       " {'title': '两大双11玩家裂变套路大揭秘：阿里做社交，京东薅羊毛', 'favourite': '33', 'thumb': '3'},\n",
       " {'title': '以饿了么和美团外卖为例，如何塑造互联网式的差异化', 'favourite': '121', 'thumb': '17'},\n",
       " {'title': '线下+线上=城市漂流瓶计划，从一个闪念到执行落地的思考总结', 'favourite': '29', 'thumb': '15'},\n",
       " {'title': '小七带你逛起点｜运营老司机和运营菜鸟的区别：快速拆解任务，多维考量执行路径',\n",
       "  'favourite': '0',\n",
       "  'thumb': '5'}]"
      ]
     },
     "execution_count": 6,
     "metadata": {},
     "output_type": "execute_result"
    }
   ],
   "source": [
    "all_info"
   ]
  },
  {
   "cell_type": "code",
   "execution_count": null,
   "metadata": {},
   "outputs": [],
   "source": []
  }
 ],
 "metadata": {
  "kernelspec": {
   "display_name": "Python 3",
   "language": "python",
   "name": "python3"
  },
  "language_info": {
   "codemirror_mode": {
    "name": "ipython",
    "version": 3
   },
   "file_extension": ".py",
   "mimetype": "text/x-python",
   "name": "python",
   "nbconvert_exporter": "python",
   "pygments_lexer": "ipython3",
   "version": "3.6.3"
  }
 },
 "nbformat": 4,
 "nbformat_minor": 2
}
