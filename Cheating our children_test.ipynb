{
 "cells": [
  {
   "cell_type": "markdown",
   "metadata": {},
   "source": [
    "Data downloaded from:\n",
    "* www.jenster.com/nottingham.xlsx\n",
    "* www.jenster.com/index.xlsx\n",
    "\n",
    "Those data are part of a workshop called \"descriptive analysis\" conducted by Jenifer on GICJ2017 in South Africa"
   ]
  },
  {
   "cell_type": "markdown",
   "metadata": {},
   "source": [
    "## Cheating our children"
   ]
  },
  {
   "cell_type": "markdown",
   "metadata": {},
   "source": [
    "Read the related news here:\n",
    "\n",
    "* http://www.ajc.com/news/cheating-our-children/scores/"
   ]
  },
  {
   "cell_type": "code",
   "execution_count": 1,
   "metadata": {},
   "outputs": [],
   "source": [
    "import pandas as pd\n",
    "from matplotlib import pyplot as plt\n",
    "import seaborn as sns\n",
    "import numpy as np"
   ]
  },
  {
   "cell_type": "code",
   "execution_count": 2,
   "metadata": {},
   "outputs": [],
   "source": [
    "df = pd.read_excel('nottingham.xlsx')"
   ]
  },
  {
   "cell_type": "code",
   "execution_count": 3,
   "metadata": {},
   "outputs": [
    {
     "data": {
      "text/html": [
       "<div>\n",
       "<style scoped>\n",
       "    .dataframe tbody tr th:only-of-type {\n",
       "        vertical-align: middle;\n",
       "    }\n",
       "\n",
       "    .dataframe tbody tr th {\n",
       "        vertical-align: top;\n",
       "    }\n",
       "\n",
       "    .dataframe thead th {\n",
       "        text-align: right;\n",
       "    }\n",
       "</style>\n",
       "<table border=\"1\" class=\"dataframe\">\n",
       "  <thead>\n",
       "    <tr style=\"text-align: right;\">\n",
       "      <th></th>\n",
       "      <th>RecType</th>\n",
       "      <th>Schoolme</th>\n",
       "      <th>Address1</th>\n",
       "      <th>Address2</th>\n",
       "      <th>Address3</th>\n",
       "      <th>Town</th>\n",
       "      <th>PostCode</th>\n",
       "      <th>TelNum</th>\n",
       "      <th>SchoolType</th>\n",
       "      <th>TotPup</th>\n",
       "      <th>TotElig</th>\n",
       "      <th>AVG_ENG_MATH_SCORE_07</th>\n",
       "      <th>AVG_ENG_MATH_SCORE_08</th>\n",
       "      <th>AVG_ENG_MATH_SCORE_09</th>\n",
       "      <th>AVG_ENG_MATH_SCORE_10</th>\n",
       "      <th>P_ABSENT_PERSIST</th>\n",
       "    </tr>\n",
       "  </thead>\n",
       "  <tbody>\n",
       "    <tr>\n",
       "      <th>0</th>\n",
       "      <td>1</td>\n",
       "      <td>Claremont Primary and Nursery School</td>\n",
       "      <td>Claremont Road</td>\n",
       "      <td>Off Huckll Road</td>\n",
       "      <td></td>\n",
       "      <td>Nottingham</td>\n",
       "      <td>NG5 1BH</td>\n",
       "      <td>0115 9156870</td>\n",
       "      <td>CY</td>\n",
       "      <td>337</td>\n",
       "      <td>49.0</td>\n",
       "      <td>25.1</td>\n",
       "      <td>26.0</td>\n",
       "      <td>26.2</td>\n",
       "      <td>26.4</td>\n",
       "      <td>11.3</td>\n",
       "    </tr>\n",
       "    <tr>\n",
       "      <th>1</th>\n",
       "      <td>1</td>\n",
       "      <td>Windmill Primary &amp; Nursery School</td>\n",
       "      <td>Sneinton Boulevard</td>\n",
       "      <td></td>\n",
       "      <td></td>\n",
       "      <td>Nottingham</td>\n",
       "      <td>NG2 4FZ</td>\n",
       "      <td>0115 9150195</td>\n",
       "      <td>CY</td>\n",
       "      <td>442</td>\n",
       "      <td>86.0</td>\n",
       "      <td>24.9</td>\n",
       "      <td>25.2</td>\n",
       "      <td>23.9</td>\n",
       "      <td>24.7</td>\n",
       "      <td>8.6</td>\n",
       "    </tr>\n",
       "    <tr>\n",
       "      <th>2</th>\n",
       "      <td>1</td>\n",
       "      <td>Stanstead Nursery and Primary School</td>\n",
       "      <td>Stanstead Avenue</td>\n",
       "      <td>Rise Park</td>\n",
       "      <td>Stanstead Avenue</td>\n",
       "      <td>Nottingham</td>\n",
       "      <td>NG5 5BL</td>\n",
       "      <td>0115 9156300</td>\n",
       "      <td>CY</td>\n",
       "      <td>198</td>\n",
       "      <td>24.0</td>\n",
       "      <td>28.0</td>\n",
       "      <td>25.5</td>\n",
       "      <td>27.1</td>\n",
       "      <td>24.7</td>\n",
       "      <td>7.7</td>\n",
       "    </tr>\n",
       "    <tr>\n",
       "      <th>3</th>\n",
       "      <td>1</td>\n",
       "      <td>Nottingham Academy</td>\n",
       "      <td>Sneinton Boulevard</td>\n",
       "      <td></td>\n",
       "      <td>Sneinton</td>\n",
       "      <td>Nottingham</td>\n",
       "      <td>NG2 4GL</td>\n",
       "      <td>0115 9103200</td>\n",
       "      <td>AC</td>\n",
       "      <td>2170</td>\n",
       "      <td>68.0</td>\n",
       "      <td>NaN</td>\n",
       "      <td>NaN</td>\n",
       "      <td>NaN</td>\n",
       "      <td>NaN</td>\n",
       "      <td>7.6</td>\n",
       "    </tr>\n",
       "    <tr>\n",
       "      <th>4</th>\n",
       "      <td>1</td>\n",
       "      <td>Southwark Primary School</td>\n",
       "      <td>Bulwell Lane</td>\n",
       "      <td>Old Basford</td>\n",
       "      <td></td>\n",
       "      <td>Nottingham</td>\n",
       "      <td>NG6 0BS</td>\n",
       "      <td>0115 9150466</td>\n",
       "      <td>CY</td>\n",
       "      <td>531</td>\n",
       "      <td>69.0</td>\n",
       "      <td>27.1</td>\n",
       "      <td>26.6</td>\n",
       "      <td>27.4</td>\n",
       "      <td>26.8</td>\n",
       "      <td>7.3</td>\n",
       "    </tr>\n",
       "  </tbody>\n",
       "</table>\n",
       "</div>"
      ],
      "text/plain": [
       "   RecType                              Schoolme            Address1  \\\n",
       "0        1  Claremont Primary and Nursery School      Claremont Road   \n",
       "1        1     Windmill Primary & Nursery School  Sneinton Boulevard   \n",
       "2        1  Stanstead Nursery and Primary School    Stanstead Avenue   \n",
       "3        1                    Nottingham Academy  Sneinton Boulevard   \n",
       "4        1              Southwark Primary School        Bulwell Lane   \n",
       "\n",
       "          Address2          Address3        Town PostCode        TelNum  \\\n",
       "0  Off Huckll Road                    Nottingham  NG5 1BH  0115 9156870   \n",
       "1                                     Nottingham  NG2 4FZ  0115 9150195   \n",
       "2        Rise Park  Stanstead Avenue  Nottingham  NG5 5BL  0115 9156300   \n",
       "3                           Sneinton  Nottingham  NG2 4GL  0115 9103200   \n",
       "4      Old Basford                    Nottingham  NG6 0BS  0115 9150466   \n",
       "\n",
       "  SchoolType  TotPup  TotElig  AVG_ENG_MATH_SCORE_07  AVG_ENG_MATH_SCORE_08  \\\n",
       "0         CY     337     49.0                   25.1                   26.0   \n",
       "1         CY     442     86.0                   24.9                   25.2   \n",
       "2         CY     198     24.0                   28.0                   25.5   \n",
       "3         AC    2170     68.0                    NaN                    NaN   \n",
       "4         CY     531     69.0                   27.1                   26.6   \n",
       "\n",
       "   AVG_ENG_MATH_SCORE_09  AVG_ENG_MATH_SCORE_10  P_ABSENT_PERSIST  \n",
       "0                   26.2                   26.4              11.3  \n",
       "1                   23.9                   24.7               8.6  \n",
       "2                   27.1                   24.7               7.7  \n",
       "3                    NaN                    NaN               7.6  \n",
       "4                   27.4                   26.8               7.3  "
      ]
     },
     "execution_count": 3,
     "metadata": {},
     "output_type": "execute_result"
    }
   ],
   "source": [
    "df.head()"
   ]
  },
  {
   "cell_type": "code",
   "execution_count": 4,
   "metadata": {},
   "outputs": [
    {
     "data": {
      "text/html": [
       "<div>\n",
       "<style scoped>\n",
       "    .dataframe tbody tr th:only-of-type {\n",
       "        vertical-align: middle;\n",
       "    }\n",
       "\n",
       "    .dataframe tbody tr th {\n",
       "        vertical-align: top;\n",
       "    }\n",
       "\n",
       "    .dataframe thead th {\n",
       "        text-align: right;\n",
       "    }\n",
       "</style>\n",
       "<table border=\"1\" class=\"dataframe\">\n",
       "  <thead>\n",
       "    <tr style=\"text-align: right;\">\n",
       "      <th></th>\n",
       "      <th>RecType</th>\n",
       "      <th>TotPup</th>\n",
       "      <th>TotElig</th>\n",
       "      <th>AVG_ENG_MATH_SCORE_07</th>\n",
       "      <th>AVG_ENG_MATH_SCORE_08</th>\n",
       "      <th>AVG_ENG_MATH_SCORE_09</th>\n",
       "      <th>AVG_ENG_MATH_SCORE_10</th>\n",
       "      <th>P_ABSENT_PERSIST</th>\n",
       "    </tr>\n",
       "  </thead>\n",
       "  <tbody>\n",
       "    <tr>\n",
       "      <th>count</th>\n",
       "      <td>207.000000</td>\n",
       "      <td>207.000000</td>\n",
       "      <td>205.000000</td>\n",
       "      <td>179.000000</td>\n",
       "      <td>182.000000</td>\n",
       "      <td>187.000000</td>\n",
       "      <td>139.000000</td>\n",
       "      <td>193.000000</td>\n",
       "    </tr>\n",
       "    <tr>\n",
       "      <th>mean</th>\n",
       "      <td>1.057971</td>\n",
       "      <td>257.705314</td>\n",
       "      <td>37.097561</td>\n",
       "      <td>27.497207</td>\n",
       "      <td>27.518681</td>\n",
       "      <td>27.566845</td>\n",
       "      <td>27.720863</td>\n",
       "      <td>2.067876</td>\n",
       "    </tr>\n",
       "    <tr>\n",
       "      <th>std</th>\n",
       "      <td>0.234255</td>\n",
       "      <td>175.026559</td>\n",
       "      <td>18.858613</td>\n",
       "      <td>2.031865</td>\n",
       "      <td>1.667029</td>\n",
       "      <td>1.641424</td>\n",
       "      <td>1.727295</td>\n",
       "      <td>1.982187</td>\n",
       "    </tr>\n",
       "    <tr>\n",
       "      <th>min</th>\n",
       "      <td>1.000000</td>\n",
       "      <td>0.000000</td>\n",
       "      <td>2.000000</td>\n",
       "      <td>15.000000</td>\n",
       "      <td>22.900000</td>\n",
       "      <td>23.500000</td>\n",
       "      <td>23.300000</td>\n",
       "      <td>0.000000</td>\n",
       "    </tr>\n",
       "    <tr>\n",
       "      <th>25%</th>\n",
       "      <td>1.000000</td>\n",
       "      <td>179.000000</td>\n",
       "      <td>25.000000</td>\n",
       "      <td>26.200000</td>\n",
       "      <td>26.300000</td>\n",
       "      <td>26.400000</td>\n",
       "      <td>26.450000</td>\n",
       "      <td>0.600000</td>\n",
       "    </tr>\n",
       "    <tr>\n",
       "      <th>50%</th>\n",
       "      <td>1.000000</td>\n",
       "      <td>230.000000</td>\n",
       "      <td>34.000000</td>\n",
       "      <td>27.800000</td>\n",
       "      <td>27.400000</td>\n",
       "      <td>27.600000</td>\n",
       "      <td>27.800000</td>\n",
       "      <td>1.500000</td>\n",
       "    </tr>\n",
       "    <tr>\n",
       "      <th>75%</th>\n",
       "      <td>1.000000</td>\n",
       "      <td>319.000000</td>\n",
       "      <td>50.000000</td>\n",
       "      <td>28.850000</td>\n",
       "      <td>28.800000</td>\n",
       "      <td>28.750000</td>\n",
       "      <td>28.950000</td>\n",
       "      <td>2.900000</td>\n",
       "    </tr>\n",
       "    <tr>\n",
       "      <th>max</th>\n",
       "      <td>2.000000</td>\n",
       "      <td>2170.000000</td>\n",
       "      <td>119.000000</td>\n",
       "      <td>31.900000</td>\n",
       "      <td>31.200000</td>\n",
       "      <td>31.600000</td>\n",
       "      <td>32.300000</td>\n",
       "      <td>11.300000</td>\n",
       "    </tr>\n",
       "  </tbody>\n",
       "</table>\n",
       "</div>"
      ],
      "text/plain": [
       "          RecType       TotPup     TotElig  AVG_ENG_MATH_SCORE_07  \\\n",
       "count  207.000000   207.000000  205.000000             179.000000   \n",
       "mean     1.057971   257.705314   37.097561              27.497207   \n",
       "std      0.234255   175.026559   18.858613               2.031865   \n",
       "min      1.000000     0.000000    2.000000              15.000000   \n",
       "25%      1.000000   179.000000   25.000000              26.200000   \n",
       "50%      1.000000   230.000000   34.000000              27.800000   \n",
       "75%      1.000000   319.000000   50.000000              28.850000   \n",
       "max      2.000000  2170.000000  119.000000              31.900000   \n",
       "\n",
       "       AVG_ENG_MATH_SCORE_08  AVG_ENG_MATH_SCORE_09  AVG_ENG_MATH_SCORE_10  \\\n",
       "count             182.000000             187.000000             139.000000   \n",
       "mean               27.518681              27.566845              27.720863   \n",
       "std                 1.667029               1.641424               1.727295   \n",
       "min                22.900000              23.500000              23.300000   \n",
       "25%                26.300000              26.400000              26.450000   \n",
       "50%                27.400000              27.600000              27.800000   \n",
       "75%                28.800000              28.750000              28.950000   \n",
       "max                31.200000              31.600000              32.300000   \n",
       "\n",
       "       P_ABSENT_PERSIST  \n",
       "count        193.000000  \n",
       "mean           2.067876  \n",
       "std            1.982187  \n",
       "min            0.000000  \n",
       "25%            0.600000  \n",
       "50%            1.500000  \n",
       "75%            2.900000  \n",
       "max           11.300000  "
      ]
     },
     "execution_count": 4,
     "metadata": {},
     "output_type": "execute_result"
    }
   ],
   "source": [
    "df.describe()"
   ]
  },
  {
   "cell_type": "markdown",
   "metadata": {},
   "source": [
    "The columns:\n",
    "\n",
    "* `AVG_ENG_MATH_SCORE_xx` The average score for the particular class of year xx. For a class, this metric is the higher the better\n",
    "* `P_ABSENT_PERSIST` the absent ratio transformed somehow, the higher the worse.\n",
    "\n",
    "This is multi dimensional data. We are interested in the relationship between those dimensions/ variables."
   ]
  },
  {
   "cell_type": "code",
   "execution_count": 5,
   "metadata": {},
   "outputs": [
    {
     "data": {
      "text/plain": [
       "207"
      ]
     },
     "execution_count": 5,
     "metadata": {},
     "output_type": "execute_result"
    }
   ],
   "source": [
    "len(df)"
   ]
  },
  {
   "cell_type": "code",
   "execution_count": 6,
   "metadata": {},
   "outputs": [
    {
     "data": {
      "text/plain": [
       "27.497206703910614"
      ]
     },
     "execution_count": 6,
     "metadata": {},
     "output_type": "execute_result"
    }
   ],
   "source": [
    "df[\"AVG_ENG_MATH_SCORE_07\"].mean()"
   ]
  },
  {
   "cell_type": "code",
   "execution_count": 7,
   "metadata": {},
   "outputs": [
    {
     "data": {
      "text/plain": [
       "27.518681318681317"
      ]
     },
     "execution_count": 7,
     "metadata": {},
     "output_type": "execute_result"
    }
   ],
   "source": [
    "df[\"AVG_ENG_MATH_SCORE_08\"].mean()"
   ]
  },
  {
   "cell_type": "code",
   "execution_count": 8,
   "metadata": {},
   "outputs": [
    {
     "data": {
      "text/plain": [
       "27.566844919786096"
      ]
     },
     "execution_count": 8,
     "metadata": {},
     "output_type": "execute_result"
    }
   ],
   "source": [
    "df[\"AVG_ENG_MATH_SCORE_09\"].mean()"
   ]
  },
  {
   "cell_type": "code",
   "execution_count": 9,
   "metadata": {},
   "outputs": [
    {
     "data": {
      "text/plain": [
       "27.72086330935252"
      ]
     },
     "execution_count": 9,
     "metadata": {},
     "output_type": "execute_result"
    }
   ],
   "source": [
    "df[\"AVG_ENG_MATH_SCORE_10\"].mean()"
   ]
  },
  {
   "cell_type": "code",
   "execution_count": 10,
   "metadata": {},
   "outputs": [
    {
     "data": {
      "text/plain": [
       "11.3"
      ]
     },
     "execution_count": 10,
     "metadata": {},
     "output_type": "execute_result"
    }
   ],
   "source": [
    "df[\"P_ABSENT_PERSIST\"].max()"
   ]
  },
  {
   "cell_type": "code",
   "execution_count": 11,
   "metadata": {},
   "outputs": [
    {
     "data": {
      "text/html": [
       "<div>\n",
       "<style scoped>\n",
       "    .dataframe tbody tr th:only-of-type {\n",
       "        vertical-align: middle;\n",
       "    }\n",
       "\n",
       "    .dataframe tbody tr th {\n",
       "        vertical-align: top;\n",
       "    }\n",
       "\n",
       "    .dataframe thead th {\n",
       "        text-align: right;\n",
       "    }\n",
       "</style>\n",
       "<table border=\"1\" class=\"dataframe\">\n",
       "  <thead>\n",
       "    <tr style=\"text-align: right;\">\n",
       "      <th></th>\n",
       "      <th>RecType</th>\n",
       "      <th>Schoolme</th>\n",
       "      <th>Address1</th>\n",
       "      <th>Address2</th>\n",
       "      <th>Address3</th>\n",
       "      <th>Town</th>\n",
       "      <th>PostCode</th>\n",
       "      <th>TelNum</th>\n",
       "      <th>SchoolType</th>\n",
       "      <th>TotPup</th>\n",
       "      <th>TotElig</th>\n",
       "      <th>AVG_ENG_MATH_SCORE_07</th>\n",
       "      <th>AVG_ENG_MATH_SCORE_08</th>\n",
       "      <th>AVG_ENG_MATH_SCORE_09</th>\n",
       "      <th>AVG_ENG_MATH_SCORE_10</th>\n",
       "      <th>P_ABSENT_PERSIST</th>\n",
       "    </tr>\n",
       "  </thead>\n",
       "  <tbody>\n",
       "    <tr>\n",
       "      <th>0</th>\n",
       "      <td>1</td>\n",
       "      <td>Claremont Primary and Nursery School</td>\n",
       "      <td>Claremont Road</td>\n",
       "      <td>Off Huckll Road</td>\n",
       "      <td></td>\n",
       "      <td>Nottingham</td>\n",
       "      <td>NG5 1BH</td>\n",
       "      <td>0115 9156870</td>\n",
       "      <td>CY</td>\n",
       "      <td>337</td>\n",
       "      <td>49.0</td>\n",
       "      <td>25.1</td>\n",
       "      <td>26.0</td>\n",
       "      <td>26.2</td>\n",
       "      <td>26.4</td>\n",
       "      <td>11.3</td>\n",
       "    </tr>\n",
       "  </tbody>\n",
       "</table>\n",
       "</div>"
      ],
      "text/plain": [
       "   RecType                              Schoolme        Address1  \\\n",
       "0        1  Claremont Primary and Nursery School  Claremont Road   \n",
       "\n",
       "          Address2 Address3        Town PostCode        TelNum SchoolType  \\\n",
       "0  Off Huckll Road           Nottingham  NG5 1BH  0115 9156870         CY   \n",
       "\n",
       "   TotPup  TotElig  AVG_ENG_MATH_SCORE_07  AVG_ENG_MATH_SCORE_08  \\\n",
       "0     337     49.0                   25.1                   26.0   \n",
       "\n",
       "   AVG_ENG_MATH_SCORE_09  AVG_ENG_MATH_SCORE_10  P_ABSENT_PERSIST  \n",
       "0                   26.2                   26.4              11.3  "
      ]
     },
     "execution_count": 11,
     "metadata": {},
     "output_type": "execute_result"
    }
   ],
   "source": [
    "df[df[\"P_ABSENT_PERSIST\"] == 11.3]"
   ]
  },
  {
   "cell_type": "code",
   "execution_count": 12,
   "metadata": {},
   "outputs": [
    {
     "data": {
      "text/plain": [
       "2.067875647668394"
      ]
     },
     "execution_count": 12,
     "metadata": {},
     "output_type": "execute_result"
    }
   ],
   "source": [
    "df[\"P_ABSENT_PERSIST\"].mean()"
   ]
  },
  {
   "cell_type": "code",
   "execution_count": 13,
   "metadata": {},
   "outputs": [
    {
     "data": {
      "text/plain": [
       "23.3"
      ]
     },
     "execution_count": 13,
     "metadata": {},
     "output_type": "execute_result"
    }
   ],
   "source": [
    "df[\"AVG_ENG_MATH_SCORE_10\"].min()"
   ]
  },
  {
   "cell_type": "code",
   "execution_count": 14,
   "metadata": {},
   "outputs": [
    {
     "data": {
      "text/html": [
       "<div>\n",
       "<style scoped>\n",
       "    .dataframe tbody tr th:only-of-type {\n",
       "        vertical-align: middle;\n",
       "    }\n",
       "\n",
       "    .dataframe tbody tr th {\n",
       "        vertical-align: top;\n",
       "    }\n",
       "\n",
       "    .dataframe thead th {\n",
       "        text-align: right;\n",
       "    }\n",
       "</style>\n",
       "<table border=\"1\" class=\"dataframe\">\n",
       "  <thead>\n",
       "    <tr style=\"text-align: right;\">\n",
       "      <th></th>\n",
       "      <th>RecType</th>\n",
       "      <th>Schoolme</th>\n",
       "      <th>Address1</th>\n",
       "      <th>Address2</th>\n",
       "      <th>Address3</th>\n",
       "      <th>Town</th>\n",
       "      <th>PostCode</th>\n",
       "      <th>TelNum</th>\n",
       "      <th>SchoolType</th>\n",
       "      <th>TotPup</th>\n",
       "      <th>TotElig</th>\n",
       "      <th>AVG_ENG_MATH_SCORE_07</th>\n",
       "      <th>AVG_ENG_MATH_SCORE_08</th>\n",
       "      <th>AVG_ENG_MATH_SCORE_09</th>\n",
       "      <th>AVG_ENG_MATH_SCORE_10</th>\n",
       "      <th>P_ABSENT_PERSIST</th>\n",
       "    </tr>\n",
       "  </thead>\n",
       "  <tbody>\n",
       "    <tr>\n",
       "      <th>32</th>\n",
       "      <td>1</td>\n",
       "      <td>Warren Primary School</td>\n",
       "      <td>Bewcastle Road</td>\n",
       "      <td>Top Valley</td>\n",
       "      <td></td>\n",
       "      <td>Nottingham</td>\n",
       "      <td>NG5 9PJ</td>\n",
       "      <td>0115 9153760</td>\n",
       "      <td>CY</td>\n",
       "      <td>225</td>\n",
       "      <td>28.0</td>\n",
       "      <td>28.1</td>\n",
       "      <td>27.1</td>\n",
       "      <td>26.9</td>\n",
       "      <td>27.9</td>\n",
       "      <td>3.9</td>\n",
       "    </tr>\n",
       "    <tr>\n",
       "      <th>33</th>\n",
       "      <td>1</td>\n",
       "      <td>Old Basford Primary and Nursery School</td>\n",
       "      <td>Percy Street</td>\n",
       "      <td>Old Basford</td>\n",
       "      <td></td>\n",
       "      <td>Nottingham</td>\n",
       "      <td>NG6 0GF</td>\n",
       "      <td>0115 9785505</td>\n",
       "      <td>CY</td>\n",
       "      <td>460</td>\n",
       "      <td>56.0</td>\n",
       "      <td>26.7</td>\n",
       "      <td>26.7</td>\n",
       "      <td>27.8</td>\n",
       "      <td>28.6</td>\n",
       "      <td>3.8</td>\n",
       "    </tr>\n",
       "    <tr>\n",
       "      <th>43</th>\n",
       "      <td>1</td>\n",
       "      <td>Parkdale Primary School</td>\n",
       "      <td>Parkdale Road</td>\n",
       "      <td>Carlton</td>\n",
       "      <td></td>\n",
       "      <td>Nottingham</td>\n",
       "      <td>NG4 1BX</td>\n",
       "      <td>0115 9110066</td>\n",
       "      <td>CY</td>\n",
       "      <td>359</td>\n",
       "      <td>55.0</td>\n",
       "      <td>26.2</td>\n",
       "      <td>28.2</td>\n",
       "      <td>27.1</td>\n",
       "      <td>28.3</td>\n",
       "      <td>3.1</td>\n",
       "    </tr>\n",
       "    <tr>\n",
       "      <th>44</th>\n",
       "      <td>1</td>\n",
       "      <td>Porchester Junior School</td>\n",
       "      <td>Standhill Road</td>\n",
       "      <td>Carlton</td>\n",
       "      <td></td>\n",
       "      <td>Nottingham</td>\n",
       "      <td>NG4 1LF</td>\n",
       "      <td>0115 9520920</td>\n",
       "      <td>CY</td>\n",
       "      <td>166</td>\n",
       "      <td>40.0</td>\n",
       "      <td>28.1</td>\n",
       "      <td>29.7</td>\n",
       "      <td>28.9</td>\n",
       "      <td>28.9</td>\n",
       "      <td>3.0</td>\n",
       "    </tr>\n",
       "    <tr>\n",
       "      <th>50</th>\n",
       "      <td>1</td>\n",
       "      <td>South Wilford Endowed CofE Primary School</td>\n",
       "      <td>Main Road</td>\n",
       "      <td>Wilford</td>\n",
       "      <td></td>\n",
       "      <td>Nottingham</td>\n",
       "      <td>NG11 7AL</td>\n",
       "      <td>0115 9152967</td>\n",
       "      <td>VA</td>\n",
       "      <td>285</td>\n",
       "      <td>39.0</td>\n",
       "      <td>29.3</td>\n",
       "      <td>28.5</td>\n",
       "      <td>29.6</td>\n",
       "      <td>28.6</td>\n",
       "      <td>2.9</td>\n",
       "    </tr>\n",
       "    <tr>\n",
       "      <th>55</th>\n",
       "      <td>1</td>\n",
       "      <td>Brooklands Primary School</td>\n",
       "      <td>Clumber Street</td>\n",
       "      <td>Long Eaton</td>\n",
       "      <td></td>\n",
       "      <td>Nottingham</td>\n",
       "      <td>NG10 1BX</td>\n",
       "      <td>0115 9732846</td>\n",
       "      <td>CY</td>\n",
       "      <td>421</td>\n",
       "      <td>55.0</td>\n",
       "      <td>28.9</td>\n",
       "      <td>28.3</td>\n",
       "      <td>29.7</td>\n",
       "      <td>28.0</td>\n",
       "      <td>2.7</td>\n",
       "    </tr>\n",
       "    <tr>\n",
       "      <th>56</th>\n",
       "      <td>1</td>\n",
       "      <td>Longmoor Primary School</td>\n",
       "      <td>Newstead Road</td>\n",
       "      <td>Long Eaton</td>\n",
       "      <td></td>\n",
       "      <td>Nottingham</td>\n",
       "      <td>NG10 4JG</td>\n",
       "      <td>0115 9733368</td>\n",
       "      <td>CY</td>\n",
       "      <td>310</td>\n",
       "      <td>42.0</td>\n",
       "      <td>26.9</td>\n",
       "      <td>27.0</td>\n",
       "      <td>28.7</td>\n",
       "      <td>28.9</td>\n",
       "      <td>2.6</td>\n",
       "    </tr>\n",
       "    <tr>\n",
       "      <th>62</th>\n",
       "      <td>1</td>\n",
       "      <td>English Martyrs' Catholic Primary</td>\n",
       "      <td>Bracken Road</td>\n",
       "      <td>Long Eaton</td>\n",
       "      <td></td>\n",
       "      <td>Nottingham</td>\n",
       "      <td>NG10 4DA</td>\n",
       "      <td>0115 9733209</td>\n",
       "      <td>VA</td>\n",
       "      <td>238</td>\n",
       "      <td>26.0</td>\n",
       "      <td>30.7</td>\n",
       "      <td>31.2</td>\n",
       "      <td>31.2</td>\n",
       "      <td>30.6</td>\n",
       "      <td>2.4</td>\n",
       "    </tr>\n",
       "    <tr>\n",
       "      <th>70</th>\n",
       "      <td>1</td>\n",
       "      <td>Carlton Central Junior School</td>\n",
       "      <td>Garden Avenue</td>\n",
       "      <td>Foxhill Road</td>\n",
       "      <td>Carlton</td>\n",
       "      <td>Nottingham</td>\n",
       "      <td>NG4 1QT</td>\n",
       "      <td>0115 9110402</td>\n",
       "      <td>CY</td>\n",
       "      <td>175</td>\n",
       "      <td>43.0</td>\n",
       "      <td>25.4</td>\n",
       "      <td>25.6</td>\n",
       "      <td>27.4</td>\n",
       "      <td>28.1</td>\n",
       "      <td>2.2</td>\n",
       "    </tr>\n",
       "    <tr>\n",
       "      <th>75</th>\n",
       "      <td>1</td>\n",
       "      <td>Awsworth Primary and Nursery School</td>\n",
       "      <td>The Lane</td>\n",
       "      <td>Awsworth</td>\n",
       "      <td></td>\n",
       "      <td>Nottingham</td>\n",
       "      <td>NG16 2QS</td>\n",
       "      <td>0115 9321926</td>\n",
       "      <td>CY</td>\n",
       "      <td>248</td>\n",
       "      <td>29.0</td>\n",
       "      <td>26.7</td>\n",
       "      <td>27.2</td>\n",
       "      <td>26.8</td>\n",
       "      <td>28.4</td>\n",
       "      <td>2.1</td>\n",
       "    </tr>\n",
       "  </tbody>\n",
       "</table>\n",
       "</div>"
      ],
      "text/plain": [
       "    RecType                                   Schoolme        Address1  \\\n",
       "32        1                      Warren Primary School  Bewcastle Road   \n",
       "33        1     Old Basford Primary and Nursery School    Percy Street   \n",
       "43        1                    Parkdale Primary School   Parkdale Road   \n",
       "44        1                   Porchester Junior School  Standhill Road   \n",
       "50        1  South Wilford Endowed CofE Primary School       Main Road   \n",
       "55        1                  Brooklands Primary School  Clumber Street   \n",
       "56        1                    Longmoor Primary School   Newstead Road   \n",
       "62        1          English Martyrs' Catholic Primary    Bracken Road   \n",
       "70        1              Carlton Central Junior School   Garden Avenue   \n",
       "75        1        Awsworth Primary and Nursery School        The Lane   \n",
       "\n",
       "        Address2 Address3        Town  PostCode        TelNum SchoolType  \\\n",
       "32    Top Valley           Nottingham   NG5 9PJ  0115 9153760         CY   \n",
       "33   Old Basford           Nottingham   NG6 0GF  0115 9785505         CY   \n",
       "43       Carlton           Nottingham   NG4 1BX  0115 9110066         CY   \n",
       "44       Carlton           Nottingham   NG4 1LF  0115 9520920         CY   \n",
       "50       Wilford           Nottingham  NG11 7AL  0115 9152967         VA   \n",
       "55    Long Eaton           Nottingham  NG10 1BX  0115 9732846         CY   \n",
       "56    Long Eaton           Nottingham  NG10 4JG  0115 9733368         CY   \n",
       "62    Long Eaton           Nottingham  NG10 4DA  0115 9733209         VA   \n",
       "70  Foxhill Road  Carlton  Nottingham   NG4 1QT  0115 9110402         CY   \n",
       "75      Awsworth           Nottingham  NG16 2QS  0115 9321926         CY   \n",
       "\n",
       "    TotPup  TotElig  AVG_ENG_MATH_SCORE_07  AVG_ENG_MATH_SCORE_08  \\\n",
       "32     225     28.0                   28.1                   27.1   \n",
       "33     460     56.0                   26.7                   26.7   \n",
       "43     359     55.0                   26.2                   28.2   \n",
       "44     166     40.0                   28.1                   29.7   \n",
       "50     285     39.0                   29.3                   28.5   \n",
       "55     421     55.0                   28.9                   28.3   \n",
       "56     310     42.0                   26.9                   27.0   \n",
       "62     238     26.0                   30.7                   31.2   \n",
       "70     175     43.0                   25.4                   25.6   \n",
       "75     248     29.0                   26.7                   27.2   \n",
       "\n",
       "    AVG_ENG_MATH_SCORE_09  AVG_ENG_MATH_SCORE_10  P_ABSENT_PERSIST  \n",
       "32                   26.9                   27.9               3.9  \n",
       "33                   27.8                   28.6               3.8  \n",
       "43                   27.1                   28.3               3.1  \n",
       "44                   28.9                   28.9               3.0  \n",
       "50                   29.6                   28.6               2.9  \n",
       "55                   29.7                   28.0               2.7  \n",
       "56                   28.7                   28.9               2.6  \n",
       "62                   31.2                   30.6               2.4  \n",
       "70                   27.4                   28.1               2.2  \n",
       "75                   26.8                   28.4               2.1  "
      ]
     },
     "execution_count": 14,
     "metadata": {},
     "output_type": "execute_result"
    }
   ],
   "source": [
    "df[(df[\"P_ABSENT_PERSIST\"] >df[\"P_ABSENT_PERSIST\"].mean()) \n",
    "   & (df[\"AVG_ENG_MATH_SCORE_10\"] > df[\"AVG_ENG_MATH_SCORE_10\"].mean())]"
   ]
  },
  {
   "cell_type": "code",
   "execution_count": 15,
   "metadata": {},
   "outputs": [
    {
     "data": {
      "text/plain": [
       "82     6.926667\n",
       "95     5.323333\n",
       "90     5.189167\n",
       "151    4.029167\n",
       "25     3.423333\n",
       "108    3.125000\n",
       "182    2.809167\n",
       "40     2.730000\n",
       "133    2.253333\n",
       "28     2.250000\n",
       "2      2.242500\n",
       "155    2.216667\n",
       "171    2.189167\n",
       "92     2.086667\n",
       "121    2.036667\n",
       "183    1.880000\n",
       "140    1.803333\n",
       "184    1.803333\n",
       "70     1.775833\n",
       "42     1.755833\n",
       "67     1.750000\n",
       "65     1.720000\n",
       "17     1.613333\n",
       "98     1.603333\n",
       "19     1.603333\n",
       "149    1.562500\n",
       "9      1.483333\n",
       "160    1.450000\n",
       "68     1.402500\n",
       "186    1.323333\n",
       "         ...   \n",
       "118    0.090000\n",
       "132    0.090000\n",
       "27     0.089167\n",
       "148    0.083333\n",
       "158    0.069167\n",
       "156    0.062500\n",
       "104    0.026667\n",
       "22     0.020000\n",
       "173    0.003333\n",
       "60     0.003333\n",
       "3           NaN\n",
       "7           NaN\n",
       "36          NaN\n",
       "45          NaN\n",
       "99          NaN\n",
       "168         NaN\n",
       "193         NaN\n",
       "194         NaN\n",
       "195         NaN\n",
       "196         NaN\n",
       "197         NaN\n",
       "198         NaN\n",
       "199         NaN\n",
       "200         NaN\n",
       "201         NaN\n",
       "202         NaN\n",
       "203         NaN\n",
       "204         NaN\n",
       "205         NaN\n",
       "206         NaN\n",
       "Length: 207, dtype: float64"
      ]
     },
     "execution_count": 15,
     "metadata": {},
     "output_type": "execute_result"
    }
   ],
   "source": [
    "#目的是想要filter出7-10年级成绩方差，从而判断某学校成绩是否稳定，有没有嫌疑\n",
    "df[['AVG_ENG_MATH_SCORE_07','AVG_ENG_MATH_SCORE_08','AVG_ENG_MATH_SCORE_09','AVG_ENG_MATH_SCORE_10']].var(axis=1).sort_values(ascending=False)\n",
    "#问题：如何直接filter出学校名称与其对应的值，两列，一列学校名称，一列variance\n",
    "#下面是我的做法，略微有点诡异，先用得到的var set index with schoolname,然后reindex,再筛选"
   ]
  },
  {
   "cell_type": "code",
   "execution_count": 16,
   "metadata": {},
   "outputs": [],
   "source": [
    "var = df.set_index(df[['AVG_ENG_MATH_SCORE_07','AVG_ENG_MATH_SCORE_08','AVG_ENG_MATH_SCORE_09','AVG_ENG_MATH_SCORE_10']].var(axis=1))['Schoolme']"
   ]
  },
  {
   "cell_type": "code",
   "execution_count": 17,
   "metadata": {},
   "outputs": [],
   "source": [
    "var = var.reset_index()"
   ]
  },
  {
   "cell_type": "code",
   "execution_count": 18,
   "metadata": {},
   "outputs": [
    {
     "data": {
      "text/html": [
       "<div>\n",
       "<style scoped>\n",
       "    .dataframe tbody tr th:only-of-type {\n",
       "        vertical-align: middle;\n",
       "    }\n",
       "\n",
       "    .dataframe tbody tr th {\n",
       "        vertical-align: top;\n",
       "    }\n",
       "\n",
       "    .dataframe thead th {\n",
       "        text-align: right;\n",
       "    }\n",
       "</style>\n",
       "<table border=\"1\" class=\"dataframe\">\n",
       "  <thead>\n",
       "    <tr style=\"text-align: right;\">\n",
       "      <th></th>\n",
       "      <th>index</th>\n",
       "      <th>Schoolme</th>\n",
       "    </tr>\n",
       "  </thead>\n",
       "  <tbody>\n",
       "    <tr>\n",
       "      <th>25</th>\n",
       "      <td>3.423333</td>\n",
       "      <td>Henry Whipple Primary School</td>\n",
       "    </tr>\n",
       "    <tr>\n",
       "      <th>82</th>\n",
       "      <td>6.926667</td>\n",
       "      <td>Bentinck Primary and Nursery School</td>\n",
       "    </tr>\n",
       "    <tr>\n",
       "      <th>90</th>\n",
       "      <td>5.189167</td>\n",
       "      <td>Greenfields Community School</td>\n",
       "    </tr>\n",
       "    <tr>\n",
       "      <th>95</th>\n",
       "      <td>5.323333</td>\n",
       "      <td>Langar CofE Primary School</td>\n",
       "    </tr>\n",
       "    <tr>\n",
       "      <th>108</th>\n",
       "      <td>3.125000</td>\n",
       "      <td>Bottesford Church of England Primary School</td>\n",
       "    </tr>\n",
       "    <tr>\n",
       "      <th>151</th>\n",
       "      <td>4.029167</td>\n",
       "      <td>Riverside Primary School and Early Years Unit</td>\n",
       "    </tr>\n",
       "  </tbody>\n",
       "</table>\n",
       "</div>"
      ],
      "text/plain": [
       "        index                                       Schoolme\n",
       "25   3.423333                   Henry Whipple Primary School\n",
       "82   6.926667            Bentinck Primary and Nursery School\n",
       "90   5.189167                   Greenfields Community School\n",
       "95   5.323333                     Langar CofE Primary School\n",
       "108  3.125000    Bottesford Church of England Primary School\n",
       "151  4.029167  Riverside Primary School and Early Years Unit"
      ]
     },
     "execution_count": 18,
     "metadata": {},
     "output_type": "execute_result"
    }
   ],
   "source": [
    "var[var['index']>3]"
   ]
  },
  {
   "cell_type": "code",
   "execution_count": 19,
   "metadata": {},
   "outputs": [
    {
     "data": {
      "text/plain": [
       "AVG_ENG_MATH_SCORE_09   -0.038742\n",
       "AVG_ENG_MATH_SCORE_10   -0.152395\n",
       "AVG_ENG_MATH_SCORE_08   -0.224148\n",
       "AVG_ENG_MATH_SCORE_07   -1.352412\n",
       "dtype: float64"
      ]
     },
     "execution_count": 19,
     "metadata": {},
     "output_type": "execute_result"
    }
   ],
   "source": [
    "df[['AVG_ENG_MATH_SCORE_07','AVG_ENG_MATH_SCORE_08','AVG_ENG_MATH_SCORE_09','AVG_ENG_MATH_SCORE_10']].skew(axis=0).sort_values(ascending=False)\n",
    "#偏度能帮助判断其大体分布形态，可以知道将其处理为正态分布是否可行。Sk> 0，且Sk值越大，右偏程度越高；Sk< 0，且Sk值越小，左偏程度越高"
   ]
  },
  {
   "cell_type": "code",
   "execution_count": 20,
   "metadata": {},
   "outputs": [
    {
     "data": {
      "text/plain": [
       "AVG_ENG_MATH_SCORE_07    6.934606\n",
       "AVG_ENG_MATH_SCORE_10   -0.036167\n",
       "AVG_ENG_MATH_SCORE_08   -0.428693\n",
       "AVG_ENG_MATH_SCORE_09   -0.478333\n",
       "dtype: float64"
      ]
     },
     "execution_count": 20,
     "metadata": {},
     "output_type": "execute_result"
    }
   ],
   "source": [
    "df[['AVG_ENG_MATH_SCORE_07','AVG_ENG_MATH_SCORE_08','AVG_ENG_MATH_SCORE_09','AVG_ENG_MATH_SCORE_10']].kurtosis(axis=0).sort_values(ascending=False)\n",
    "#峰度（Kurtosis）衡量实数随机变量概率分布的峰态。峰度高就意味着方差增大是由低频度的大于或小于平均值的极端差值引起的。"
   ]
  },
  {
   "cell_type": "code",
   "execution_count": 21,
   "metadata": {},
   "outputs": [
    {
     "data": {
      "text/html": [
       "<div>\n",
       "<style scoped>\n",
       "    .dataframe tbody tr th:only-of-type {\n",
       "        vertical-align: middle;\n",
       "    }\n",
       "\n",
       "    .dataframe tbody tr th {\n",
       "        vertical-align: top;\n",
       "    }\n",
       "\n",
       "    .dataframe thead th {\n",
       "        text-align: right;\n",
       "    }\n",
       "</style>\n",
       "<table border=\"1\" class=\"dataframe\">\n",
       "  <thead>\n",
       "    <tr style=\"text-align: right;\">\n",
       "      <th></th>\n",
       "      <th>RecType</th>\n",
       "      <th>Schoolme</th>\n",
       "      <th>Address1</th>\n",
       "      <th>Address2</th>\n",
       "      <th>Address3</th>\n",
       "      <th>Town</th>\n",
       "      <th>PostCode</th>\n",
       "      <th>TelNum</th>\n",
       "      <th>SchoolType</th>\n",
       "      <th>TotPup</th>\n",
       "      <th>TotElig</th>\n",
       "      <th>AVG_ENG_MATH_SCORE_07</th>\n",
       "      <th>AVG_ENG_MATH_SCORE_08</th>\n",
       "      <th>AVG_ENG_MATH_SCORE_09</th>\n",
       "      <th>AVG_ENG_MATH_SCORE_10</th>\n",
       "      <th>P_ABSENT_PERSIST</th>\n",
       "    </tr>\n",
       "  </thead>\n",
       "  <tbody>\n",
       "    <tr>\n",
       "      <th>25</th>\n",
       "      <td>1</td>\n",
       "      <td>Henry Whipple Primary School</td>\n",
       "      <td>Padstow Road</td>\n",
       "      <td>Bestwood</td>\n",
       "      <td></td>\n",
       "      <td>Nottingham</td>\n",
       "      <td>NG5 5GH</td>\n",
       "      <td>0115 9155723</td>\n",
       "      <td>CY</td>\n",
       "      <td>179</td>\n",
       "      <td>26.0</td>\n",
       "      <td>NaN</td>\n",
       "      <td>27.9</td>\n",
       "      <td>29.7</td>\n",
       "      <td>26.0</td>\n",
       "      <td>4.5</td>\n",
       "    </tr>\n",
       "    <tr>\n",
       "      <th>82</th>\n",
       "      <td>1</td>\n",
       "      <td>Bentinck Primary and Nursery School</td>\n",
       "      <td>Alfreton Road</td>\n",
       "      <td></td>\n",
       "      <td></td>\n",
       "      <td>Nottingham</td>\n",
       "      <td>NG7 4AA</td>\n",
       "      <td>0115 9151567</td>\n",
       "      <td>CY</td>\n",
       "      <td>268</td>\n",
       "      <td>29.0</td>\n",
       "      <td>24.8</td>\n",
       "      <td>24.3</td>\n",
       "      <td>23.8</td>\n",
       "      <td>29.5</td>\n",
       "      <td>1.9</td>\n",
       "    </tr>\n",
       "    <tr>\n",
       "      <th>90</th>\n",
       "      <td>1</td>\n",
       "      <td>Greenfields Community School</td>\n",
       "      <td>Orange Gardens</td>\n",
       "      <td></td>\n",
       "      <td>The Meadows</td>\n",
       "      <td>Nottingham</td>\n",
       "      <td>NG2 2JE</td>\n",
       "      <td>0115 9153762</td>\n",
       "      <td>CY</td>\n",
       "      <td>243</td>\n",
       "      <td>26.0</td>\n",
       "      <td>24.2</td>\n",
       "      <td>25.2</td>\n",
       "      <td>28.2</td>\n",
       "      <td>28.9</td>\n",
       "      <td>1.7</td>\n",
       "    </tr>\n",
       "    <tr>\n",
       "      <th>95</th>\n",
       "      <td>1</td>\n",
       "      <td>Langar CofE Primary School</td>\n",
       "      <td>Barnstone Road</td>\n",
       "      <td>Langar</td>\n",
       "      <td></td>\n",
       "      <td>Nottingham</td>\n",
       "      <td>NG13 9HH</td>\n",
       "      <td>01949 860056</td>\n",
       "      <td>VC</td>\n",
       "      <td>91</td>\n",
       "      <td>15.0</td>\n",
       "      <td>NaN</td>\n",
       "      <td>29.1</td>\n",
       "      <td>25.5</td>\n",
       "      <td>29.8</td>\n",
       "      <td>1.5</td>\n",
       "    </tr>\n",
       "    <tr>\n",
       "      <th>108</th>\n",
       "      <td>1</td>\n",
       "      <td>Bottesford Church of England Primary School</td>\n",
       "      <td>Silverwood Road</td>\n",
       "      <td>Bottesford</td>\n",
       "      <td></td>\n",
       "      <td>Nottingham</td>\n",
       "      <td>NG13 0BS</td>\n",
       "      <td>01949 842224</td>\n",
       "      <td>VC</td>\n",
       "      <td>215</td>\n",
       "      <td>36.0</td>\n",
       "      <td>NaN</td>\n",
       "      <td>NaN</td>\n",
       "      <td>28.2</td>\n",
       "      <td>30.7</td>\n",
       "      <td>1.1</td>\n",
       "    </tr>\n",
       "    <tr>\n",
       "      <th>151</th>\n",
       "      <td>1</td>\n",
       "      <td>Riverside Primary School and Early Years Unit</td>\n",
       "      <td>Ainsworth Drive</td>\n",
       "      <td>The Meadows</td>\n",
       "      <td></td>\n",
       "      <td>Nottingham</td>\n",
       "      <td>NG2 1FX</td>\n",
       "      <td>0115 9153898</td>\n",
       "      <td>CY</td>\n",
       "      <td>203</td>\n",
       "      <td>22.0</td>\n",
       "      <td>23.3</td>\n",
       "      <td>27.0</td>\n",
       "      <td>27.1</td>\n",
       "      <td>27.7</td>\n",
       "      <td>0.6</td>\n",
       "    </tr>\n",
       "  </tbody>\n",
       "</table>\n",
       "</div>"
      ],
      "text/plain": [
       "     RecType                                       Schoolme         Address1  \\\n",
       "25         1                   Henry Whipple Primary School     Padstow Road   \n",
       "82         1            Bentinck Primary and Nursery School    Alfreton Road   \n",
       "90         1                   Greenfields Community School   Orange Gardens   \n",
       "95         1                     Langar CofE Primary School   Barnstone Road   \n",
       "108        1    Bottesford Church of England Primary School  Silverwood Road   \n",
       "151        1  Riverside Primary School and Early Years Unit  Ainsworth Drive   \n",
       "\n",
       "        Address2     Address3        Town  PostCode        TelNum SchoolType  \\\n",
       "25      Bestwood               Nottingham   NG5 5GH  0115 9155723         CY   \n",
       "82                             Nottingham   NG7 4AA  0115 9151567         CY   \n",
       "90                The Meadows  Nottingham   NG2 2JE  0115 9153762         CY   \n",
       "95        Langar               Nottingham  NG13 9HH  01949 860056         VC   \n",
       "108   Bottesford               Nottingham  NG13 0BS  01949 842224         VC   \n",
       "151  The Meadows               Nottingham   NG2 1FX  0115 9153898         CY   \n",
       "\n",
       "     TotPup  TotElig  AVG_ENG_MATH_SCORE_07  AVG_ENG_MATH_SCORE_08  \\\n",
       "25      179     26.0                    NaN                   27.9   \n",
       "82      268     29.0                   24.8                   24.3   \n",
       "90      243     26.0                   24.2                   25.2   \n",
       "95       91     15.0                    NaN                   29.1   \n",
       "108     215     36.0                    NaN                    NaN   \n",
       "151     203     22.0                   23.3                   27.0   \n",
       "\n",
       "     AVG_ENG_MATH_SCORE_09  AVG_ENG_MATH_SCORE_10  P_ABSENT_PERSIST  \n",
       "25                    29.7                   26.0               4.5  \n",
       "82                    23.8                   29.5               1.9  \n",
       "90                    28.2                   28.9               1.7  \n",
       "95                    25.5                   29.8               1.5  \n",
       "108                   28.2                   30.7               1.1  \n",
       "151                   27.1                   27.7               0.6  "
      ]
     },
     "execution_count": 21,
     "metadata": {},
     "output_type": "execute_result"
    }
   ],
   "source": [
    "#对15行问题的尝试2\n",
    "#这样做filter能够筛选出方差在3以上，但是具体值对应的学校并不知道\n",
    "df[df[['AVG_ENG_MATH_SCORE_07','AVG_ENG_MATH_SCORE_08','AVG_ENG_MATH_SCORE_09','AVG_ENG_MATH_SCORE_10']].var(axis=1)>3]"
   ]
  },
  {
   "cell_type": "code",
   "execution_count": null,
   "metadata": {},
   "outputs": [],
   "source": [
    "df[\"AVG_ENG_MATH_SCORE_10\"].median()"
   ]
  },
  {
   "cell_type": "code",
   "execution_count": null,
   "metadata": {},
   "outputs": [],
   "source": [
    "df[\"AVG_ENG_MATH_SCORE_10\"].quantile(0.8) #90th percentile"
   ]
  },
  {
   "cell_type": "code",
   "execution_count": null,
   "metadata": {},
   "outputs": [],
   "source": [
    "df[\"AVG_ENG_MATH_SCORE_10\"].quantile(0.7) #70th percentile"
   ]
  },
  {
   "cell_type": "code",
   "execution_count": null,
   "metadata": {},
   "outputs": [],
   "source": [
    "df['P_ABSENT_PERSIST'].hist(bins=20)"
   ]
  },
  {
   "cell_type": "markdown",
   "metadata": {},
   "source": [
    "**Question**:\n",
    "\n",
    "* What do you conclude from this histogram?\n",
    "* What would you do next to mine the news?"
   ]
  },
  {
   "cell_type": "code",
   "execution_count": null,
   "metadata": {},
   "outputs": [],
   "source": [
    "df['AVG_ENG_MATH_SCORE_07'].hist(bins=20)"
   ]
  },
  {
   "cell_type": "code",
   "execution_count": null,
   "metadata": {},
   "outputs": [],
   "source": [
    "df[df['AVG_ENG_MATH_SCORE_07'] < 16]"
   ]
  },
  {
   "cell_type": "code",
   "execution_count": null,
   "metadata": {},
   "outputs": [],
   "source": [
    "plt.subplot(2, 2, 1)\n",
    "df['AVG_ENG_MATH_SCORE_07'].hist(bins=10)\n",
    "plt.title('AVG_ENG_MATH_SCORE_07')\n",
    "\n",
    "plt.subplot(2, 2, 2)\n",
    "df['AVG_ENG_MATH_SCORE_08'].hist(bins=10)\n",
    "plt.title('AVG_ENG_MATH_SCORE_08')\n",
    "\n",
    "\n",
    "plt.subplot(2, 2, 3)\n",
    "df['AVG_ENG_MATH_SCORE_09'].hist(bins=10)\n",
    "plt.title('AVG_ENG_MATH_SCORE_09')\n",
    "\n",
    "\n",
    "plt.subplot(2, 2, 4)\n",
    "df['AVG_ENG_MATH_SCORE_10'].hist(bins=10)\n",
    "plt.title('AVG_ENG_MATH_SCORE_10')"
   ]
  },
  {
   "cell_type": "markdown",
   "metadata": {},
   "source": [
    "## The relationship between absence and score"
   ]
  },
  {
   "cell_type": "code",
   "execution_count": null,
   "metadata": {},
   "outputs": [],
   "source": [
    "df.plot('P_ABSENT_PERSIST', 'AVG_ENG_MATH_SCORE_09', kind='scatter')"
   ]
  },
  {
   "cell_type": "markdown",
   "metadata": {},
   "source": [
    "The higher the absence ratio, the lower the test score in general. Two questions:\n",
    "\n",
    "* Is this relationship strong enough?\n",
    "* What are the outliers?"
   ]
  },
  {
   "cell_type": "code",
   "execution_count": null,
   "metadata": {},
   "outputs": [],
   "source": [
    "help(df['P_ABSENT_PERSIST'].corr)"
   ]
  },
  {
   "cell_type": "code",
   "execution_count": null,
   "metadata": {},
   "outputs": [],
   "source": [
    "df['P_ABSENT_PERSIST'].corr(df['AVG_ENG_MATH_SCORE_09'], method='pearson')"
   ]
  },
  {
   "cell_type": "markdown",
   "metadata": {},
   "source": [
    "**Note**:\n",
    "\n",
    "* Pearson correlation is between [-1, 1]\n",
    "* Values around 0 means no correlation/ weak correlation\n",
    "* Values near 1 and -1 can be interpreted as strong (linear) correlation"
   ]
  },
  {
   "cell_type": "markdown",
   "metadata": {},
   "source": [
    "Pearson correlation does not work very well with non-linear correlation or when the variables are not (jointly) normally distributed. It is also senstive to outliers. Spearman's rank correlation can help here. "
   ]
  },
  {
   "cell_type": "code",
   "execution_count": null,
   "metadata": {},
   "outputs": [],
   "source": [
    "df['AVG_ENG_MATH_SCORE_09'].rank()[:10]"
   ]
  },
  {
   "cell_type": "code",
   "execution_count": null,
   "metadata": {},
   "outputs": [],
   "source": [
    "df['P_ABSENT_PERSIST'].corr(df['AVG_ENG_MATH_SCORE_09'], method='spearman')"
   ]
  },
  {
   "cell_type": "code",
   "execution_count": null,
   "metadata": {},
   "outputs": [],
   "source": [
    "df['P_ABSENT_PERSIST'].rank().corr(df['AVG_ENG_MATH_SCORE_09'].rank(), method='spearman')"
   ]
  },
  {
   "cell_type": "markdown",
   "metadata": {},
   "source": [
    "**Quiz**:\n",
    "\n",
    "* Why the above two works the same?"
   ]
  },
  {
   "cell_type": "code",
   "execution_count": null,
   "metadata": {},
   "outputs": [],
   "source": [
    "sum(df['AVG_ENG_MATH_SCORE_09'].rank() == df['AVG_ENG_MATH_SCORE_09'].rank().rank())"
   ]
  },
  {
   "cell_type": "code",
   "execution_count": null,
   "metadata": {},
   "outputs": [],
   "source": [
    "len(df['AVG_ENG_MATH_SCORE_09'].rank())"
   ]
  },
  {
   "cell_type": "markdown",
   "metadata": {},
   "source": [
    "### The correlation for all grades"
   ]
  },
  {
   "cell_type": "code",
   "execution_count": null,
   "metadata": {},
   "outputs": [],
   "source": [
    "df['P_ABSENT_PERSIST'].corr(df['AVG_ENG_MATH_SCORE_10'], method='spearman')"
   ]
  },
  {
   "cell_type": "code",
   "execution_count": null,
   "metadata": {},
   "outputs": [],
   "source": [
    "df['P_ABSENT_PERSIST'].corr(df['AVG_ENG_MATH_SCORE_09'], method='spearman')"
   ]
  },
  {
   "cell_type": "code",
   "execution_count": null,
   "metadata": {},
   "outputs": [],
   "source": [
    "df['P_ABSENT_PERSIST'].corr(df['AVG_ENG_MATH_SCORE_08'], method='spearman')"
   ]
  },
  {
   "cell_type": "code",
   "execution_count": null,
   "metadata": {},
   "outputs": [],
   "source": [
    "df['P_ABSENT_PERSIST'].corr(df['AVG_ENG_MATH_SCORE_07'], method='spearman')"
   ]
  },
  {
   "cell_type": "markdown",
   "metadata": {},
   "source": [
    "## Better visualisation"
   ]
  },
  {
   "cell_type": "code",
   "execution_count": null,
   "metadata": {},
   "outputs": [],
   "source": [
    "df.plot('P_ABSENT_PERSIST', 'AVG_ENG_MATH_SCORE_09', kind='scatter')"
   ]
  },
  {
   "cell_type": "code",
   "execution_count": null,
   "metadata": {},
   "outputs": [],
   "source": [
    "sns.regplot(df['P_ABSENT_PERSIST'], df['AVG_ENG_MATH_SCORE_09'])"
   ]
  },
  {
   "cell_type": "code",
   "execution_count": null,
   "metadata": {},
   "outputs": [],
   "source": [
    "#help(np.polyfit)"
   ]
  },
  {
   "cell_type": "code",
   "execution_count": null,
   "metadata": {},
   "outputs": [],
   "source": [
    "np.polyfit(df['P_ABSENT_PERSIST'].fillna(0), df['AVG_ENG_MATH_SCORE_09'].fillna(0), 1)"
   ]
  },
  {
   "cell_type": "markdown",
   "metadata": {},
   "source": [
    "**Quiz**: What does it look like if we plot above line? The return value of `polyfit` is Polynomial coefficients, highest power first."
   ]
  },
  {
   "cell_type": "markdown",
   "metadata": {},
   "source": [
    "**NOTE:** Try the codes without `filena` and observe the error. Now it is time to do some cleaning."
   ]
  },
  {
   "cell_type": "code",
   "execution_count": null,
   "metadata": {},
   "outputs": [],
   "source": [
    "na_selector = df['P_ABSENT_PERSIST'].isna()\n",
    "na_selector |= df['AVG_ENG_MATH_SCORE_07'].isna()\n",
    "na_selector |= df['AVG_ENG_MATH_SCORE_08'].isna()\n",
    "na_selector |= df['AVG_ENG_MATH_SCORE_09'].isna()\n",
    "na_selector |= df['AVG_ENG_MATH_SCORE_10'].isna()"
   ]
  },
  {
   "cell_type": "code",
   "execution_count": null,
   "metadata": {},
   "outputs": [],
   "source": [
    "len(df[na_selector])"
   ]
  },
  {
   "cell_type": "code",
   "execution_count": null,
   "metadata": {},
   "outputs": [],
   "source": [
    "len(df)"
   ]
  },
  {
   "cell_type": "code",
   "execution_count": null,
   "metadata": {},
   "outputs": [],
   "source": [
    "len(df[~na_selector])"
   ]
  },
  {
   "cell_type": "code",
   "execution_count": null,
   "metadata": {},
   "outputs": [],
   "source": [
    "df_cleaned = df[~na_selector]"
   ]
  },
  {
   "cell_type": "code",
   "execution_count": null,
   "metadata": {},
   "outputs": [],
   "source": [
    "np.polyfit(df_cleaned['P_ABSENT_PERSIST'].fillna(0), \n",
    "           df_cleaned['AVG_ENG_MATH_SCORE_09'].fillna(0), \n",
    "           1)"
   ]
  },
  {
   "cell_type": "markdown",
   "metadata": {},
   "source": [
    "The prediction: y_hat = 28.54239409 + (-0.44654826) * x"
   ]
  },
  {
   "cell_type": "code",
   "execution_count": null,
   "metadata": {},
   "outputs": [],
   "source": [
    "absent = df_cleaned['P_ABSENT_PERSIST']\n",
    "score_grade09 = df_cleaned['AVG_ENG_MATH_SCORE_09']"
   ]
  },
  {
   "cell_type": "code",
   "execution_count": null,
   "metadata": {},
   "outputs": [],
   "source": [
    "estimated_score_grade09 =  28.54239409 + (-0.44654826) * absent"
   ]
  },
  {
   "cell_type": "code",
   "execution_count": null,
   "metadata": {},
   "outputs": [],
   "source": [
    "(score_grade09 - estimated_score_grade09).hist()"
   ]
  },
  {
   "cell_type": "code",
   "execution_count": null,
   "metadata": {},
   "outputs": [],
   "source": [
    "df_cleaned[(score_grade09 - estimated_score_grade09) > 3]"
   ]
  },
  {
   "cell_type": "code",
   "execution_count": null,
   "metadata": {},
   "outputs": [],
   "source": [
    "df_cleaned[(score_grade09 - estimated_score_grade09) > 2.5]"
   ]
  },
  {
   "cell_type": "code",
   "execution_count": null,
   "metadata": {},
   "outputs": [],
   "source": [
    "s = (score_grade09 - estimated_score_grade09)"
   ]
  },
  {
   "cell_type": "markdown",
   "metadata": {},
   "source": [
    "Get the threshold value for 95% percentile"
   ]
  },
  {
   "cell_type": "code",
   "execution_count": null,
   "metadata": {},
   "outputs": [],
   "source": [
    "s.quantile(0.95)"
   ]
  },
  {
   "cell_type": "code",
   "execution_count": null,
   "metadata": {},
   "outputs": [],
   "source": [
    "df_cleaned[s > s.quantile(0.95)].plot(\n",
    "    x='P_ABSENT_PERSIST', \n",
    "    y='AVG_ENG_MATH_SCORE_09', \n",
    "    kind='scatter')"
   ]
  },
  {
   "cell_type": "code",
   "execution_count": null,
   "metadata": {},
   "outputs": [],
   "source": [
    "ax = sns.regplot(df_cleaned['P_ABSENT_PERSIST'], df_cleaned['AVG_ENG_MATH_SCORE_09'])\n",
    "df_cleaned[s > s.quantile(0.95)].plot(\n",
    "    x='P_ABSENT_PERSIST', \n",
    "    y='AVG_ENG_MATH_SCORE_09', \n",
    "    kind='scatter',\n",
    "    color='red',\n",
    "    ax=ax)"
   ]
  },
  {
   "cell_type": "markdown",
   "metadata": {},
   "source": [
    "We can adjust the quantile to include/ exclude suspecious schools."
   ]
  },
  {
   "cell_type": "code",
   "execution_count": null,
   "metadata": {},
   "outputs": [],
   "source": [
    "ax = sns.regplot(\n",
    "    df_cleaned['P_ABSENT_PERSIST'], \n",
    "    df_cleaned['AVG_ENG_MATH_SCORE_09'],\n",
    ")\n",
    "df_cleaned[s > s.quantile(0.90)].plot(\n",
    "    x='P_ABSENT_PERSIST', \n",
    "    y='AVG_ENG_MATH_SCORE_09', \n",
    "    kind='scatter',\n",
    "    color='red',\n",
    "    ax=ax)"
   ]
  },
  {
   "cell_type": "markdown",
   "metadata": {},
   "source": [
    "### A more primitive/ finer controlled way of plotting using matplotlib\n",
    "\n",
    "Two common tricks for better visuals:\n",
    "\n",
    "* Add jitter to further scatter the data points\n",
    "* Use transparency to help identify density"
   ]
  },
  {
   "cell_type": "code",
   "execution_count": null,
   "metadata": {},
   "outputs": [],
   "source": [
    "plt.figure(figsize=(10, 5))\n",
    "plt.scatter(\n",
    "    df_cleaned['P_ABSENT_PERSIST'], \n",
    "    df_cleaned['AVG_ENG_MATH_SCORE_09'],\n",
    "    s=80, alpha=0.5)"
   ]
  },
  {
   "cell_type": "code",
   "execution_count": null,
   "metadata": {},
   "outputs": [],
   "source": [
    "plt.figure(figsize=(10, 5))\n",
    "plt.scatter(\n",
    "    df_cleaned['P_ABSENT_PERSIST'] + np.random.normal(0, 0.1, len(df_cleaned)), \n",
    "    df_cleaned['AVG_ENG_MATH_SCORE_09'] + np.random.normal(0, 1, len(df_cleaned)),\n",
    "    s=80, alpha=0.5)"
   ]
  },
  {
   "cell_type": "code",
   "execution_count": null,
   "metadata": {},
   "outputs": [],
   "source": [
    "coeffs = np.polyfit(df_cleaned['P_ABSENT_PERSIST'].fillna(0), \n",
    "           df_cleaned['AVG_ENG_MATH_SCORE_09'].fillna(0), \n",
    "           1)"
   ]
  },
  {
   "cell_type": "code",
   "execution_count": null,
   "metadata": {},
   "outputs": [],
   "source": [
    "coeffs"
   ]
  },
  {
   "cell_type": "code",
   "execution_count": null,
   "metadata": {},
   "outputs": [],
   "source": [
    "trendline_x = np.linspace(df_cleaned['P_ABSENT_PERSIST'].min(), df_cleaned['P_ABSENT_PERSIST'].max())\n",
    "trendline_y = coeffs[0] * trendline_x + coeffs[1]"
   ]
  },
  {
   "cell_type": "code",
   "execution_count": null,
   "metadata": {},
   "outputs": [],
   "source": [
    "plt.figure(figsize=(10, 5))\n",
    "\n",
    "plt.scatter(\n",
    "    df_cleaned['P_ABSENT_PERSIST'] + np.random.normal(0, 0.1, len(df_cleaned)), \n",
    "    df_cleaned['AVG_ENG_MATH_SCORE_09'] + np.random.normal(0, 1, len(df_cleaned)),\n",
    "    s=80, alpha=0.5)\n",
    "\n",
    "plt.plot(trendline_x, trendline_y, linewidth=5)\n",
    "\n",
    "plt.scatter(\n",
    "    df_cleaned[s > s.quantile(0.90)]['P_ABSENT_PERSIST'],\n",
    "    df_cleaned[s > s.quantile(0.90)]['AVG_ENG_MATH_SCORE_09'],\n",
    "    color='red'\n",
    ")"
   ]
  },
  {
   "cell_type": "markdown",
   "metadata": {},
   "source": [
    "Jitter is good to present data but you need to track how the data is jittered in order to aligh multiple plots. The complete version is followed."
   ]
  },
  {
   "cell_type": "code",
   "execution_count": null,
   "metadata": {},
   "outputs": [],
   "source": [
    "plt.figure(figsize=(10, 5))\n",
    "\n",
    "# Plot main bubbles\n",
    "\n",
    "x = df_cleaned['P_ABSENT_PERSIST']\n",
    "x_jitter = x + np.random.normal(0, 0.05, len(df_cleaned))\n",
    "y = df_cleaned['AVG_ENG_MATH_SCORE_09'] \n",
    "y_jitter = y + np.random.normal(0, 0.1, len(df_cleaned))\n",
    "\n",
    "plt.scatter(\n",
    "    x_jitter, \n",
    "    y_jitter,\n",
    "    s=80, alpha=0.5)\n",
    "\n",
    "# Fit the curve (a line) and plot trendline\n",
    "\n",
    "coeffs = np.polyfit(x, y, 1)\n",
    "\n",
    "trendline_x = np.linspace(x.min(), x.max())\n",
    "trendline_y = coeffs[0] * trendline_x + coeffs[1]\n",
    "\n",
    "plt.plot(trendline_x, trendline_y, linewidth=5)\n",
    "\n",
    "# Identify suspecious schools, highlight and label texts\n",
    "\n",
    "estimated_y = coeffs[0] * x + coeffs[1]\n",
    "s = y - estimated_y\n",
    "\n",
    "suspecious_x = x_jitter[s > s.quantile(0.90)].values\n",
    "suspecious_y = y_jitter[s > s.quantile(0.90)].values\n",
    "suspecious_t = df_cleaned[s > s.quantile(0.90)]['Schoolme'].values\n",
    "plt.scatter(\n",
    "    suspecious_x,\n",
    "    suspecious_y,\n",
    "    color='red'\n",
    ")\n",
    "for i in range(len(suspecious_t)):\n",
    "    plt.text(suspecious_x[i], suspecious_y[i], suspecious_t[i])"
   ]
  },
  {
   "cell_type": "code",
   "execution_count": null,
   "metadata": {},
   "outputs": [],
   "source": [
    "#suspecious_x"
   ]
  },
  {
   "cell_type": "markdown",
   "metadata": {},
   "source": [
    "## Conclude the story points\n",
    "\n",
    "* English and math testing score is plausibly negatively correlated with absence.\n",
    "* The Spearman rank correlation for grade 10, 9, 8, 7 are -0.4977757689875953, -0.5810765727681304, -0.6002183459864541, -0.5038740642509405\n",
    "   * The correlation is much stronger for Grade 9 and 8\n",
    "* There are some outliers who have a high absence ratio but achieve high scores at the same time. After journalists conduct the field invetigation, they find those schools conduct extensive \"tutorial schools\" for testing score purpose"
   ]
  },
  {
   "cell_type": "code",
   "execution_count": null,
   "metadata": {},
   "outputs": [],
   "source": []
  }
 ],
 "metadata": {
  "kernelspec": {
   "display_name": "Python 3",
   "language": "python",
   "name": "python3"
  },
  "language_info": {
   "codemirror_mode": {
    "name": "ipython",
    "version": 3
   },
   "file_extension": ".py",
   "mimetype": "text/x-python",
   "name": "python",
   "nbconvert_exporter": "python",
   "pygments_lexer": "ipython3",
   "version": "3.6.3"
  }
 },
 "nbformat": 4,
 "nbformat_minor": 2
}
