{
 "cells": [
  {
   "cell_type": "code",
   "execution_count": 1,
   "metadata": {},
   "outputs": [],
   "source": [
    "import pandas as pd\n",
    "df = pd.read_csv('haha.csv')"
   ]
  },
  {
   "cell_type": "code",
   "execution_count": 41,
   "metadata": {},
   "outputs": [],
   "source": [
    "from pyecharts import Bar\n",
    "tf=df.groupby(['title'])['favorite'].mean().reset_index().sort_values(\"favorite\",ascending=False)[:15]\n",
    "tt=df.groupby(['title'])['thumb'].mean().reset_index().sort_values(\"thumb\",ascending=False)[:15]\n",
    "attr=tf.title\n",
    "v1=tf.favorite\n",
    "v2=tt.thumb\n",
    "bar=Bar('article by favorite and thumb',width='100%', height='80vh')\n",
    "bar.add('by favorite',attr,v1,xaxis_interval=0,xaxis_rotate=30,mark_line=['average'])\n",
    "bar.add('by thumb',attr,v2,xaxis_interval=0,xaxis_rotate=30,mark_line=['average'])\n",
    "bar.render('render.html')"
   ]
  },
  {
   "cell_type": "code",
   "execution_count": 42,
   "metadata": {},
   "outputs": [
    {
     "data": {
      "text/html": [
       "\n",
       "        <iframe\n",
       "            width=\"800\"\n",
       "            height=\"600\"\n",
       "            src=\"render.html\"\n",
       "            frameborder=\"0\"\n",
       "            allowfullscreen\n",
       "        ></iframe>\n",
       "        "
      ],
      "text/plain": [
       "<IPython.lib.display.IFrame at 0x111a1dba8>"
      ]
     },
     "execution_count": 42,
     "metadata": {},
     "output_type": "execute_result"
    }
   ],
   "source": [
    "from IPython.display import IFrame\n",
    "IFrame('render.html', 800, 600)"
   ]
  },
  {
   "cell_type": "code",
   "execution_count": null,
   "metadata": {},
   "outputs": [],
   "source": []
  }
 ],
 "metadata": {
  "kernelspec": {
   "display_name": "Python 3",
   "language": "python",
   "name": "python3"
  },
  "language_info": {
   "codemirror_mode": {
    "name": "ipython",
    "version": 3
   },
   "file_extension": ".py",
   "mimetype": "text/x-python",
   "name": "python",
   "nbconvert_exporter": "python",
   "pygments_lexer": "ipython3",
   "version": "3.6.5"
  }
 },
 "nbformat": 4,
 "nbformat_minor": 2
}
