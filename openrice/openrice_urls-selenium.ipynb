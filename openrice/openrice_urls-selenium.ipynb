{
 "cells": [
  {
   "cell_type": "markdown",
   "metadata": {},
   "source": [
    "### DOC\n",
    "* Use selenium to get the codes of district/cuisine/remark etc.\n",
    "* Formating urls with district and cuisine. Totally, there are 1302 urls, and each urls have less than 17 pages, therefore there should be **22134** pages, maximally."
   ]
  },
  {
   "cell_type": "markdown",
   "metadata": {},
   "source": [
    "Tips about scraping Openrice:\n",
    "- We can use the search function, and change the criteria in the advanced search mode. Here is the initial search page of Openrice. <https://www.openrice.com/zh/hongkong/restaurants>\n",
    "- Follow up last step, you will get a url that contains the results return from your searching. Check out the url parameters, you will find that they have encoded those parameters into a set of IDs. One can get all of their coding information by scraping those data with browser emulation(`selenium` etc.)\n",
    "- In each searching returns, Openrice has a limit of displaying 17 pages data. We can create a multiple layer loop scraper to enlarge the data volume.\n",
    "- for scraping notebook, please see here <https://github.com/hupili/python-for-data-and-media-communication/blob/master/scraper-examples/open_rice/openrice.ipynb>"
   ]
  },
  {
   "cell_type": "code",
   "execution_count": 1,
   "metadata": {},
   "outputs": [],
   "source": [
    "import selenium\n",
    "from selenium import webdriver\n",
    "driver = webdriver.Chrome()\n",
    "driver.get('https://www.openrice.com/zh/hongkong/restaurants')"
   ]
  },
  {
   "cell_type": "code",
   "execution_count": 2,
   "metadata": {},
   "outputs": [],
   "source": [
    "box = driver.find_element_by_css_selector('.header-searchbar-adv-search-btn').click()"
   ]
  },
  {
   "cell_type": "code",
   "execution_count": 3,
   "metadata": {},
   "outputs": [],
   "source": [
    "district_box = driver.find_element_by_xpath(\"//div[@class='modal-body or-scrollbar']//section[1]\")\n",
    "search_box = district_box.find_element_by_xpath(\"//div[@data-href='#search/landmark/district']\").click()\n",
    "\n",
    "data = driver.find_element_by_id('or-route-filters-landmark-tab-district')\n",
    "districts_info = data.find_elements_by_css_selector('.collapse')\n",
    "district_names = []\n",
    "district_ids = []\n",
    "for district in districts_info:\n",
    "    section = district.find_elements_by_css_selector('.or-route-filters-feature .or-section-group .btn, .or-route-filters-district .or-section-group .btn, .or-route-filters-landmark .or-section-group .btn, .or-route-filters-cuisine .or-section-group .btn, .or-route-filters-dish .or-section-group .btn, .or-route-filters-ingredient .or-section-group .btn, .or-route-filters-category .or-section-group .btn, .or-route-filters-soup .or-section-group .btn, .or-route-filters-time .or-section-group .btn, .or-route-filters-author .or-section-group .btn')\n",
    "    for info in section: \n",
    "        district_name = info.get_attribute(\"data-tag\")\n",
    "        district_id = info.get_attribute(\"data-param\")\n",
    "        district_names.append(district_name)\n",
    "        district_ids.append(district_id)"
   ]
  },
  {
   "cell_type": "code",
   "execution_count": 4,
   "metadata": {},
   "outputs": [
    {
     "data": {
      "text/plain": [
       "['districtId=1999',\n",
       " 'districtId=1008',\n",
       " 'districtId=1001',\n",
       " 'districtId=1003',\n",
       " 'districtId=-9006',\n",
       " 'districtId=-9007',\n",
       " 'districtId=1005',\n",
       " 'districtId=1002',\n",
       " 'districtId=1011',\n",
       " 'districtId=1022',\n",
       " 'districtId=1017',\n",
       " 'districtId=1019',\n",
       " 'districtId=1025',\n",
       " 'districtId=1026',\n",
       " 'districtId=1004',\n",
       " 'districtId=1014',\n",
       " 'districtId=1023',\n",
       " 'districtId=1009',\n",
       " 'districtId=1018',\n",
       " 'districtId=1024',\n",
       " 'districtId=1013',\n",
       " 'districtId=1021',\n",
       " 'districtId=-9151',\n",
       " 'districtId=1012',\n",
       " 'districtId=1020',\n",
       " 'districtId=1016',\n",
       " 'districtId=1027',\n",
       " 'districtId=1015',\n",
       " 'districtId=1007',\n",
       " 'districtId=1010',\n",
       " 'districtId=2999',\n",
       " 'districtId=2031',\n",
       " 'districtId=2016',\n",
       " 'districtId=2013',\n",
       " 'districtId=2019',\n",
       " 'districtId=2029',\n",
       " 'districtId=2010',\n",
       " 'districtId=2005',\n",
       " 'districtId=2011',\n",
       " 'districtId=2028',\n",
       " 'districtId=2008',\n",
       " 'districtId=-9008',\n",
       " 'districtId=2015',\n",
       " 'districtId=2009',\n",
       " 'districtId=2004',\n",
       " 'districtId=2007',\n",
       " 'districtId=2002',\n",
       " 'districtId=2001',\n",
       " 'districtId=2030',\n",
       " 'districtId=2020',\n",
       " 'districtId=2022',\n",
       " 'districtId=2027',\n",
       " 'districtId=2021',\n",
       " 'districtId=2032',\n",
       " 'districtId=2003',\n",
       " 'districtId=2006',\n",
       " 'districtId=2026',\n",
       " 'districtId=2024',\n",
       " 'districtId=2012',\n",
       " 'districtId=2025',\n",
       " 'districtId=3999',\n",
       " 'districtId=3012',\n",
       " 'districtId=3007',\n",
       " 'districtId=3013',\n",
       " 'districtId=3009',\n",
       " 'districtId=3002',\n",
       " 'districtId=3014',\n",
       " 'districtId=3008',\n",
       " 'districtId=3001',\n",
       " 'districtId=3011',\n",
       " 'districtId=3021',\n",
       " 'districtId=3015',\n",
       " 'districtId=3019',\n",
       " 'districtId=3018',\n",
       " 'districtId=3017',\n",
       " 'districtId=3022',\n",
       " 'districtId=3010',\n",
       " 'districtId=3005',\n",
       " 'districtId=3003',\n",
       " 'districtId=3004',\n",
       " 'districtId=3016',\n",
       " 'districtId=3006',\n",
       " 'districtId=3020',\n",
       " 'districtId=4999',\n",
       " 'districtId=4006',\n",
       " 'districtId=4009',\n",
       " 'districtId=4002',\n",
       " 'districtId=4001',\n",
       " 'districtId=4010',\n",
       " 'districtId=4004',\n",
       " 'districtId=4003',\n",
       " 'districtId=4005',\n",
       " 'districtId=4011']"
      ]
     },
     "execution_count": 4,
     "metadata": {},
     "output_type": "execute_result"
    }
   ],
   "source": [
    "district_ids"
   ]
  },
  {
   "cell_type": "code",
   "execution_count": 5,
   "metadata": {},
   "outputs": [],
   "source": [
    "driver.refresh()"
   ]
  },
  {
   "cell_type": "code",
   "execution_count": 6,
   "metadata": {},
   "outputs": [],
   "source": [
    "box = driver.find_element_by_css_selector('.header-searchbar-adv-search-btn').click()"
   ]
  },
  {
   "cell_type": "code",
   "execution_count": 7,
   "metadata": {},
   "outputs": [],
   "source": [
    "district_box = driver.find_element_by_xpath(\"//div[@class='modal-body or-scrollbar']//section[4]\")\n",
    "search_box = district_box.find_element_by_xpath(\"./div[@data-href='#search/cuisine']\").click()\n",
    "\n",
    "data2 = driver.find_element_by_id('or-route-filters-cuisine')\n",
    "cuisine_info = data2.find_element_by_css_selector('#global-container .or-modal .modal-body, #global-container .or-subview .modal-body')\n",
    "cuisines = []\n",
    "cuisine_ids = []\n",
    "\n",
    "# for cuisine in cuisine_info:\n",
    "section2 = cuisine_info.find_elements_by_css_selector('.or-route-filters-feature .or-section-level-2 .or-section, .or-route-filters-district .or-section-level-2 .or-section, .or-route-filters-landmark .or-section-level-2 .or-section, .or-route-filters-cuisine .or-section-level-2 .or-section, .or-route-filters-dish .or-section-level-2 .or-section, .or-route-filters-ingredient .or-section-level-2 .or-section, .or-route-filters-category .or-section-level-2 .or-section, .or-route-filters-soup .or-section-level-2 .or-section, .or-route-filters-time .or-section-level-2 .or-section, .or-route-filters-author .or-section-level-2 .or-section')\n",
    "for info in section2: \n",
    "    cuisine_name = info.get_attribute(\"data-tag\")\n",
    "    cuisine_id= info.get_attribute(\"data-param\")\n",
    "    cuisines.append(cuisine_name)\n",
    "    cuisine_ids.append(cuisine_id)"
   ]
  },
  {
   "cell_type": "code",
   "execution_count": 8,
   "metadata": {},
   "outputs": [
    {
     "data": {
      "text/plain": [
       "['cuisineId=1004',\n",
       " 'categoryGroupId=10002',\n",
       " 'categoryGroupId=10003',\n",
       " 'cuisineId=1009',\n",
       " 'cuisineId=2009',\n",
       " 'cuisineId=2001',\n",
       " 'cuisineId=2004',\n",
       " 'categoryGroupId=10008',\n",
       " 'cuisineId=3006',\n",
       " 'cuisineId=3010',\n",
       " 'categoryGroupId=10011',\n",
       " 'categoryGroupId=10012',\n",
       " 'categoryGroupId=10013',\n",
       " 'cuisineId=6000']"
      ]
     },
     "execution_count": 8,
     "metadata": {},
     "output_type": "execute_result"
    }
   ],
   "source": [
    "cuisine_ids"
   ]
  },
  {
   "cell_type": "code",
   "execution_count": 9,
   "metadata": {},
   "outputs": [],
   "source": [
    "url_list = []\n",
    "for d in district_ids:\n",
    "    for c in cuisine_ids:\n",
    "        url_list.append('https://www.openrice.com/zh/hongkong/restaurants?{0}&{1}'.format(d,c))"
   ]
  },
  {
   "cell_type": "code",
   "execution_count": 10,
   "metadata": {},
   "outputs": [
    {
     "data": {
      "text/plain": [
       "1302"
      ]
     },
     "execution_count": 10,
     "metadata": {},
     "output_type": "execute_result"
    }
   ],
   "source": [
    "len(url_list)"
   ]
  },
  {
   "cell_type": "code",
   "execution_count": null,
   "metadata": {},
   "outputs": [],
   "source": [
    "url_list"
   ]
  }
 ],
 "metadata": {
  "kernelspec": {
   "display_name": "Python 3",
   "language": "python",
   "name": "python3"
  },
  "language_info": {
   "codemirror_mode": {
    "name": "ipython",
    "version": 3
   },
   "file_extension": ".py",
   "mimetype": "text/x-python",
   "name": "python",
   "nbconvert_exporter": "python",
   "pygments_lexer": "ipython3",
   "version": "3.6.3"
  }
 },
 "nbformat": 4,
 "nbformat_minor": 2
}
