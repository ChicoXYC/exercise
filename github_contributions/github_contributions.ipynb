{
 "cells": [
  {
   "cell_type": "code",
   "execution_count": 1,
   "metadata": {},
   "outputs": [],
   "source": [
    "import requests\n",
    "from bs4 import BeautifulSoup\n",
    "resp = requests.get('https://github.com/myersjustinc')\n",
    "html_str = resp.text\n",
    "document = BeautifulSoup(html_str,\"html.parser\")"
   ]
  },
  {
   "cell_type": "code",
   "execution_count": 2,
   "metadata": {},
   "outputs": [],
   "source": [
    "urls = []\n",
    "for i in range(1,9):\n",
    "    url = 'https://github.com/myersjustinc?tab=overview&from=201{0}-01-01&to=201{1}-12-31'.format(i,i)\n",
    "    urls.append(url)"
   ]
  },
  {
   "cell_type": "code",
   "execution_count": 3,
   "metadata": {},
   "outputs": [],
   "source": [
    "#urls"
   ]
  },
  {
   "cell_type": "code",
   "execution_count": 4,
   "metadata": {},
   "outputs": [],
   "source": [
    "subjects = []\n",
    "for url in urls:\n",
    "    resp = requests.get(url)\n",
    "    html_str = resp.text\n",
    "    document = BeautifulSoup(html_str,\"html.parser\")\n",
    "    activities = document.find_all('g')\n",
    "    for activity in activities:\n",
    "        datas = activity.find_all('rect')\n",
    "        for data in datas:\n",
    "            contribution = data.find(data['data-count'])\n",
    "            date = data.find(data['data-date'])\n",
    "            subjects.append((data['data-count'], data['data-date']))"
   ]
  },
  {
   "cell_type": "code",
   "execution_count": 5,
   "metadata": {},
   "outputs": [],
   "source": [
    "#subjects"
   ]
  },
  {
   "cell_type": "code",
   "execution_count": 6,
   "metadata": {},
   "outputs": [],
   "source": [
    "import csv\n",
    "with open('github_contributions.csv','w',newline='') as f:\n",
    "    writer = csv.writer(f,delimiter=',')\n",
    "    header = ['Contribution','Date']\n",
    "    writer.writerow(header)\n",
    "    for i in range(0,len(subjects)):\n",
    "        writer.writerow([subjects[i][0],subjects[i][1]])                   \n",
    "    f.close() "
   ]
  }
 ],
 "metadata": {
  "kernelspec": {
   "display_name": "Python 3",
   "language": "python",
   "name": "python3"
  },
  "language_info": {
   "codemirror_mode": {
    "name": "ipython",
    "version": 3
   },
   "file_extension": ".py",
   "mimetype": "text/x-python",
   "name": "python",
   "nbconvert_exporter": "python",
   "pygments_lexer": "ipython3",
   "version": "3.6.3"
  }
 },
 "nbformat": 4,
 "nbformat_minor": 2
}
