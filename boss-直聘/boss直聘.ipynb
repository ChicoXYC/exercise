{
 "cells": [
  {
   "cell_type": "code",
   "execution_count": 1,
   "metadata": {},
   "outputs": [],
   "source": [
    "import selenium\n",
    "from selenium import webdriver\n",
    "driver = webdriver.Chrome()\n",
    "driver.get('https://www.zhipin.com/?sid=sem_pz_bdpc_dasou_title')"
   ]
  },
  {
   "cell_type": "code",
   "execution_count": 2,
   "metadata": {},
   "outputs": [],
   "source": [
    "# box = driver.find_element_by_css_selector('.search-box form').click()"
   ]
  },
  {
   "cell_type": "code",
   "execution_count": 3,
   "metadata": {},
   "outputs": [],
   "source": [
    "# box = driver.find_element_by_css_selector('.search-box').click()"
   ]
  },
  {
   "cell_type": "code",
   "execution_count": 4,
   "metadata": {},
   "outputs": [],
   "source": [
    "box = driver.find_element_by_css_selector('.industry-sel')\n",
    "box.click()"
   ]
  },
  {
   "cell_type": "code",
   "execution_count": 5,
   "metadata": {},
   "outputs": [
    {
     "data": {
      "text/plain": [
       "<selenium.webdriver.remote.webelement.WebElement (session=\"59b0b06e1cf1bc9d9aec8a27181d7f94\", element=\"0.6556475664138675-1\")>"
      ]
     },
     "execution_count": 5,
     "metadata": {},
     "output_type": "execute_result"
    }
   ],
   "source": [
    "box"
   ]
  },
  {
   "cell_type": "code",
   "execution_count": 6,
   "metadata": {},
   "outputs": [],
   "source": [
    "industry = driver.find_elements_by_css_selector('.search-form  .industry-box li')"
   ]
  },
  {
   "cell_type": "code",
   "execution_count": 7,
   "metadata": {},
   "outputs": [
    {
     "data": {
      "text/plain": [
       "[<selenium.webdriver.remote.webelement.WebElement (session=\"59b0b06e1cf1bc9d9aec8a27181d7f94\", element=\"0.6556475664138675-2\")>,\n",
       " <selenium.webdriver.remote.webelement.WebElement (session=\"59b0b06e1cf1bc9d9aec8a27181d7f94\", element=\"0.6556475664138675-3\")>,\n",
       " <selenium.webdriver.remote.webelement.WebElement (session=\"59b0b06e1cf1bc9d9aec8a27181d7f94\", element=\"0.6556475664138675-4\")>,\n",
       " <selenium.webdriver.remote.webelement.WebElement (session=\"59b0b06e1cf1bc9d9aec8a27181d7f94\", element=\"0.6556475664138675-5\")>,\n",
       " <selenium.webdriver.remote.webelement.WebElement (session=\"59b0b06e1cf1bc9d9aec8a27181d7f94\", element=\"0.6556475664138675-6\")>,\n",
       " <selenium.webdriver.remote.webelement.WebElement (session=\"59b0b06e1cf1bc9d9aec8a27181d7f94\", element=\"0.6556475664138675-7\")>,\n",
       " <selenium.webdriver.remote.webelement.WebElement (session=\"59b0b06e1cf1bc9d9aec8a27181d7f94\", element=\"0.6556475664138675-8\")>,\n",
       " <selenium.webdriver.remote.webelement.WebElement (session=\"59b0b06e1cf1bc9d9aec8a27181d7f94\", element=\"0.6556475664138675-9\")>,\n",
       " <selenium.webdriver.remote.webelement.WebElement (session=\"59b0b06e1cf1bc9d9aec8a27181d7f94\", element=\"0.6556475664138675-10\")>,\n",
       " <selenium.webdriver.remote.webelement.WebElement (session=\"59b0b06e1cf1bc9d9aec8a27181d7f94\", element=\"0.6556475664138675-11\")>,\n",
       " <selenium.webdriver.remote.webelement.WebElement (session=\"59b0b06e1cf1bc9d9aec8a27181d7f94\", element=\"0.6556475664138675-12\")>,\n",
       " <selenium.webdriver.remote.webelement.WebElement (session=\"59b0b06e1cf1bc9d9aec8a27181d7f94\", element=\"0.6556475664138675-13\")>,\n",
       " <selenium.webdriver.remote.webelement.WebElement (session=\"59b0b06e1cf1bc9d9aec8a27181d7f94\", element=\"0.6556475664138675-14\")>,\n",
       " <selenium.webdriver.remote.webelement.WebElement (session=\"59b0b06e1cf1bc9d9aec8a27181d7f94\", element=\"0.6556475664138675-15\")>,\n",
       " <selenium.webdriver.remote.webelement.WebElement (session=\"59b0b06e1cf1bc9d9aec8a27181d7f94\", element=\"0.6556475664138675-16\")>,\n",
       " <selenium.webdriver.remote.webelement.WebElement (session=\"59b0b06e1cf1bc9d9aec8a27181d7f94\", element=\"0.6556475664138675-17\")>,\n",
       " <selenium.webdriver.remote.webelement.WebElement (session=\"59b0b06e1cf1bc9d9aec8a27181d7f94\", element=\"0.6556475664138675-18\")>,\n",
       " <selenium.webdriver.remote.webelement.WebElement (session=\"59b0b06e1cf1bc9d9aec8a27181d7f94\", element=\"0.6556475664138675-19\")>,\n",
       " <selenium.webdriver.remote.webelement.WebElement (session=\"59b0b06e1cf1bc9d9aec8a27181d7f94\", element=\"0.6556475664138675-20\")>,\n",
       " <selenium.webdriver.remote.webelement.WebElement (session=\"59b0b06e1cf1bc9d9aec8a27181d7f94\", element=\"0.6556475664138675-21\")>,\n",
       " <selenium.webdriver.remote.webelement.WebElement (session=\"59b0b06e1cf1bc9d9aec8a27181d7f94\", element=\"0.6556475664138675-22\")>,\n",
       " <selenium.webdriver.remote.webelement.WebElement (session=\"59b0b06e1cf1bc9d9aec8a27181d7f94\", element=\"0.6556475664138675-23\")>,\n",
       " <selenium.webdriver.remote.webelement.WebElement (session=\"59b0b06e1cf1bc9d9aec8a27181d7f94\", element=\"0.6556475664138675-24\")>,\n",
       " <selenium.webdriver.remote.webelement.WebElement (session=\"59b0b06e1cf1bc9d9aec8a27181d7f94\", element=\"0.6556475664138675-25\")>,\n",
       " <selenium.webdriver.remote.webelement.WebElement (session=\"59b0b06e1cf1bc9d9aec8a27181d7f94\", element=\"0.6556475664138675-26\")>,\n",
       " <selenium.webdriver.remote.webelement.WebElement (session=\"59b0b06e1cf1bc9d9aec8a27181d7f94\", element=\"0.6556475664138675-27\")>,\n",
       " <selenium.webdriver.remote.webelement.WebElement (session=\"59b0b06e1cf1bc9d9aec8a27181d7f94\", element=\"0.6556475664138675-28\")>,\n",
       " <selenium.webdriver.remote.webelement.WebElement (session=\"59b0b06e1cf1bc9d9aec8a27181d7f94\", element=\"0.6556475664138675-29\")>,\n",
       " <selenium.webdriver.remote.webelement.WebElement (session=\"59b0b06e1cf1bc9d9aec8a27181d7f94\", element=\"0.6556475664138675-30\")>,\n",
       " <selenium.webdriver.remote.webelement.WebElement (session=\"59b0b06e1cf1bc9d9aec8a27181d7f94\", element=\"0.6556475664138675-31\")>]"
      ]
     },
     "execution_count": 7,
     "metadata": {},
     "output_type": "execute_result"
    }
   ],
   "source": [
    "industry"
   ]
  },
  {
   "cell_type": "code",
   "execution_count": 8,
   "metadata": {},
   "outputs": [],
   "source": [
    "industry[2].find_element_by_css_selector('a').click() #选择游戏"
   ]
  },
  {
   "cell_type": "code",
   "execution_count": 9,
   "metadata": {},
   "outputs": [],
   "source": [
    "driver.find_element_by_css_selector('.search-form  .btn.btn-search').click() #搜索"
   ]
  },
  {
   "cell_type": "code",
   "execution_count": null,
   "metadata": {},
   "outputs": [],
   "source": []
  }
 ],
 "metadata": {
  "kernelspec": {
   "display_name": "Python 3",
   "language": "python",
   "name": "python3"
  },
  "language_info": {
   "codemirror_mode": {
    "name": "ipython",
    "version": 3
   },
   "file_extension": ".py",
   "mimetype": "text/x-python",
   "name": "python",
   "nbconvert_exporter": "python",
   "pygments_lexer": "ipython3",
   "version": "3.6.5"
  }
 },
 "nbformat": 4,
 "nbformat_minor": 2
}
